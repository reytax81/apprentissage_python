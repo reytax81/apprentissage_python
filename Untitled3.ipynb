{
  "nbformat": 4,
  "nbformat_minor": 0,
  "metadata": {
    "colab": {
      "name": "Untitled1.ipynb",
      "provenance": [],
      "authorship_tag": "ABX9TyMG6htoNGKMfTSKlZB05rba",
      "include_colab_link": true
    },
    "kernelspec": {
      "name": "python3",
      "display_name": "Python 3"
    },
    "language_info": {
      "name": "python"
    }
  },
  "cells": [
    {
      "cell_type": "markdown",
      "metadata": {
        "id": "view-in-github",
        "colab_type": "text"
      },
      "source": [
        "<a href=\"https://colab.research.google.com/github/reytax81/apprentissage_python/blob/main/Untitled3.ipynb\" target=\"_parent\"><img src=\"https://colab.research.google.com/assets/colab-badge.svg\" alt=\"Open In Colab\"/></a>"
      ]
    },
    {
      "cell_type": "code",
      "metadata": {
        "colab": {
          "base_uri": "https://localhost:8080/"
        },
        "id": "DCBApkVu87Ln",
        "outputId": "7262e408-8c3a-4583-ef0d-171ad403b720"
      },
      "source": [
        "!pip install numpy"
      ],
      "execution_count": 1,
      "outputs": [
        {
          "output_type": "stream",
          "text": [
            "Requirement already satisfied: numpy in /usr/local/lib/python3.7/dist-packages (1.19.5)\n"
          ],
          "name": "stdout"
        }
      ]
    },
    {
      "cell_type": "code",
      "metadata": {
        "colab": {
          "base_uri": "https://localhost:8080/"
        },
        "id": "gu1JsYLZ-J7S",
        "outputId": "db951ed2-0235-4996-dde3-efd9e785b898"
      },
      "source": [
        "!pip install pandas"
      ],
      "execution_count": 2,
      "outputs": [
        {
          "output_type": "stream",
          "text": [
            "Requirement already satisfied: pandas in /usr/local/lib/python3.7/dist-packages (1.1.5)\n",
            "Requirement already satisfied: pytz>=2017.2 in /usr/local/lib/python3.7/dist-packages (from pandas) (2018.9)\n",
            "Requirement already satisfied: numpy>=1.15.4 in /usr/local/lib/python3.7/dist-packages (from pandas) (1.19.5)\n",
            "Requirement already satisfied: python-dateutil>=2.7.3 in /usr/local/lib/python3.7/dist-packages (from pandas) (2.8.1)\n",
            "Requirement already satisfied: six>=1.5 in /usr/local/lib/python3.7/dist-packages (from python-dateutil>=2.7.3->pandas) (1.15.0)\n"
          ],
          "name": "stdout"
        }
      ]
    },
    {
      "cell_type": "markdown",
      "metadata": {
        "id": "oaOpusxi9url"
      },
      "source": [
        "# ***les librairie numpy et pandas***\n",
        "[NUMPY](https://numpy.org/doc/)\\\n",
        "données structurée == tableau\\\n",
        "donnée non structurée == images, son\\\n",
        "donnée semi structuré == texte, livre etc..\n",
        "\n"
      ]
    },
    {
      "cell_type": "markdown",
      "metadata": {
        "id": "ZM2v40x3-5c2"
      },
      "source": [
        "#**DONNEES** **STRUCTUREE**\n",
        "\n",
        "#Numpy ==> librairie pour calculs scientifique en python"
      ]
    },
    {
      "cell_type": "code",
      "metadata": {
        "colab": {
          "base_uri": "https://localhost:8080/"
        },
        "id": "qpTH70vl9t6R",
        "outputId": "209f707e-f08d-4b96-f103-6ae909183629"
      },
      "source": [
        "# créer un ndarray (array)\n",
        "# array, multiple element and axes (ie.ligne, colonne)\n",
        "import numpy as np\n",
        "#np.array (nb : possible de créer des nombres complexe dtype=complex)\n",
        "#np.arrange (n) # créer un array de n element et 1 axe\n",
        "#np.zeros(i,j) créer un array de shape ixj rempli de 0\n",
        "#np.ones(i,j) créer un array ixj shape rempli de 1\n",
        "#np.eyes(i,j) créer une matrice identité de dimension i,j\n",
        "#np.random.rand(n) créer un array de dimension 1 aleatoire\n",
        "#np.random.random(size=(i,j)) créer un array de dimension i,j random\n",
        "\n",
        "#-----------------------------------------------------------------------#\n",
        "\n",
        "#np.array (nb : possible de créer des nombres complexe dtype=complex)\n",
        "np.array([1,2,3])"
      ],
      "execution_count": 5,
      "outputs": [
        {
          "output_type": "execute_result",
          "data": {
            "text/plain": [
              "array([1, 2, 3])"
            ]
          },
          "metadata": {
            "tags": []
          },
          "execution_count": 5
        }
      ]
    },
    {
      "cell_type": "code",
      "metadata": {
        "colab": {
          "base_uri": "https://localhost:8080/"
        },
        "id": "fNo2L9MfAuZ1",
        "outputId": "315913fc-5e2b-4d16-deba-41bcd1c04074"
      },
      "source": [
        "#np.arrange (n) # créer un array de n element et 1 axe\n",
        "np.arange(10)"
      ],
      "execution_count": 6,
      "outputs": [
        {
          "output_type": "execute_result",
          "data": {
            "text/plain": [
              "array([0, 1, 2, 3, 4, 5, 6, 7, 8, 9])"
            ]
          },
          "metadata": {
            "tags": []
          },
          "execution_count": 6
        }
      ]
    },
    {
      "cell_type": "code",
      "metadata": {
        "colab": {
          "base_uri": "https://localhost:8080/"
        },
        "id": "TqgQfGVSC9KU",
        "outputId": "4672b456-5187-4715-ecbf-43b00d8f87c0"
      },
      "source": [
        "#np.arange(n).reshape(i,j) reformate l'array de i et j axes\n",
        "\n",
        "np.arange(24).reshape(6,4)"
      ],
      "execution_count": 9,
      "outputs": [
        {
          "output_type": "execute_result",
          "data": {
            "text/plain": [
              "array([[ 0,  1,  2,  3],\n",
              "       [ 4,  5,  6,  7],\n",
              "       [ 8,  9, 10, 11],\n",
              "       [12, 13, 14, 15],\n",
              "       [16, 17, 18, 19],\n",
              "       [20, 21, 22, 23]])"
            ]
          },
          "metadata": {
            "tags": []
          },
          "execution_count": 9
        }
      ]
    },
    {
      "cell_type": "code",
      "metadata": {
        "colab": {
          "base_uri": "https://localhost:8080/"
        },
        "id": "pq6nkmURBJGr",
        "outputId": "2365d240-a359-4fd4-9df1-e118fb960ebb"
      },
      "source": [
        "#np.zeros(i,j) créer un array de shape ixj rempli de 0\n",
        "np.zeros((3,4))"
      ],
      "execution_count": 11,
      "outputs": [
        {
          "output_type": "execute_result",
          "data": {
            "text/plain": [
              "array([[0., 0., 0., 0.],\n",
              "       [0., 0., 0., 0.],\n",
              "       [0., 0., 0., 0.]])"
            ]
          },
          "metadata": {
            "tags": []
          },
          "execution_count": 11
        }
      ]
    },
    {
      "cell_type": "code",
      "metadata": {
        "id": "wFjKIsbbBI5w"
      },
      "source": [
        "#np.ones(i,j) créer un array ixj shape rempli de 1\n"
      ],
      "execution_count": null,
      "outputs": []
    },
    {
      "cell_type": "code",
      "metadata": {
        "id": "VUkrPlM7BKgx"
      },
      "source": [
        "#np.eye(i,j) créer une matrice identité de dimension i,j\n"
      ],
      "execution_count": 15,
      "outputs": []
    },
    {
      "cell_type": "code",
      "metadata": {
        "colab": {
          "base_uri": "https://localhost:8080/"
        },
        "id": "vZsLfie1BK32",
        "outputId": "d0f49bb0-3808-4314-c4bf-1aac91225619"
      },
      "source": [
        "#np.random.rand(n) créer un array de dimension 1 aleatoire de n elements\n",
        "np.random.rand(10)"
      ],
      "execution_count": 12,
      "outputs": [
        {
          "output_type": "execute_result",
          "data": {
            "text/plain": [
              "array([0.72234844, 0.37158953, 0.47279026, 0.58181697, 0.16929069,\n",
              "       0.39987468, 0.19148779, 0.38651604, 0.33827565, 0.26361394])"
            ]
          },
          "metadata": {
            "tags": []
          },
          "execution_count": 12
        }
      ]
    },
    {
      "cell_type": "code",
      "metadata": {
        "colab": {
          "base_uri": "https://localhost:8080/"
        },
        "id": "OGIBoquPBLN9",
        "outputId": "eabcc01f-7c2e-4966-daf0-640477f43dcb"
      },
      "source": [
        "#np.random.random(size=(i,j)) créer un array de dimension i,j random\n",
        "np.random.random(size=(3,2))"
      ],
      "execution_count": 17,
      "outputs": [
        {
          "output_type": "execute_result",
          "data": {
            "text/plain": [
              "array([[0.12303293, 0.99045355],\n",
              "       [0.4649902 , 0.44197307],\n",
              "       [0.52853255, 0.11078952]])"
            ]
          },
          "metadata": {
            "tags": []
          },
          "execution_count": 17
        }
      ]
    },
    {
      "cell_type": "code",
      "metadata": {
        "colab": {
          "base_uri": "https://localhost:8080/"
        },
        "id": "2MdnqlUwEYGg",
        "outputId": "8558b9f1-8b79-4707-9680-1eed47ae9486"
      },
      "source": [
        "# indexing\n",
        "# marche de la meme facon que les listes pour un array de dimension 1\n",
        "# en multidimension un index est representé par un tuple [(i1:j1),(i2:j2)] || (i1,j1) = lignes, (i2,j2) = colonnes\n",
        "\n",
        "my_array = np.random.rand(5)\n",
        "print(my_array)\n",
        "print(type(my_array))\n",
        "print(my_array[3])\n",
        "\n",
        "my_array_multidimension = np.random.rand(6).reshape(3,2)\n",
        "print(my_array_multidimension)\n",
        "print(my_array_multidimension[0:1,1])"
      ],
      "execution_count": 28,
      "outputs": [
        {
          "output_type": "stream",
          "text": [
            "[0.65723497 0.19086985 0.49635662 0.67714663 0.11128914]\n",
            "<class 'numpy.ndarray'>\n",
            "0.677146629060625\n",
            "[[0.70397666 0.56101821]\n",
            " [0.10523703 0.74751797]\n",
            " [0.77199781 0.0293769 ]]\n",
            "[0.56101821]\n"
          ],
          "name": "stdout"
        }
      ]
    },
    {
      "cell_type": "code",
      "metadata": {
        "colab": {
          "base_uri": "https://localhost:8080/"
        },
        "id": "dKQvYi1uGxtP",
        "outputId": "eb13e177-155f-4dd2-ca4b-f7c3bcab1f9a"
      },
      "source": [
        "# np.shape, np.ndim, np.size\n",
        "print(my_array_multidimension.shape) # forme de l'array (nombre d'element, nombre d'axes)\n",
        "print(my_array_multidimension.ndim) # le nombre de dimension\n",
        "print(my_array_multidimension.size) # le nombre total d'elements dans mon array"
      ],
      "execution_count": 29,
      "outputs": [
        {
          "output_type": "stream",
          "text": [
            "(3, 2)\n",
            "2\n",
            "6\n"
          ],
          "name": "stdout"
        }
      ]
    },
    {
      "cell_type": "code",
      "metadata": {
        "colab": {
          "base_uri": "https://localhost:8080/"
        },
        "id": "RPdUotETGxnZ",
        "outputId": "c8169dba-c9c3-4b80-c6a5-c931ce42df02"
      },
      "source": [
        "# fonction mathematique np.cos, np.log, np.exp, np.sqrt etc...\n",
        "\n",
        "my_array = np.arange(10).reshape(5,2)\n",
        "print(my_array)\n",
        "print(np.cos(my_array))\n",
        "print(np.exp(my_array))\n"
      ],
      "execution_count": 32,
      "outputs": [
        {
          "output_type": "stream",
          "text": [
            "[[0 1]\n",
            " [2 3]\n",
            " [4 5]\n",
            " [6 7]\n",
            " [8 9]]\n",
            "[[ 1.          0.54030231]\n",
            " [-0.41614684 -0.9899925 ]\n",
            " [-0.65364362  0.28366219]\n",
            " [ 0.96017029  0.75390225]\n",
            " [-0.14550003 -0.91113026]]\n",
            "[[1.00000000e+00 2.71828183e+00]\n",
            " [7.38905610e+00 2.00855369e+01]\n",
            " [5.45981500e+01 1.48413159e+02]\n",
            " [4.03428793e+02 1.09663316e+03]\n",
            " [2.98095799e+03 8.10308393e+03]]\n"
          ],
          "name": "stdout"
        }
      ]
    },
    {
      "cell_type": "code",
      "metadata": {
        "colab": {
          "base_uri": "https://localhost:8080/"
        },
        "id": "OepnG17xGxMq",
        "outputId": "a744c0bd-7e84-417e-a7ba-f6822a8257b1"
      },
      "source": [
        "# fonction utiles np.sum, np.min, np.max, np.mean\n",
        "print(my_array)\n",
        "print(my_array.min())\n",
        "print(my_array.max())\n",
        "print(my_array.mean())\n",
        "print(np.min(my_array))\n",
        "print(np.max(my_array))\n",
        "print(np.mean(my_array))"
      ],
      "execution_count": 39,
      "outputs": [
        {
          "output_type": "stream",
          "text": [
            "[[0 1]\n",
            " [2 3]\n",
            " [4 5]\n",
            " [6 7]\n",
            " [8 9]]\n",
            "0\n",
            "9\n",
            "4.5\n",
            "0\n",
            "9\n",
            "4.5\n"
          ],
          "name": "stdout"
        }
      ]
    },
    {
      "cell_type": "markdown",
      "metadata": {
        "id": "y8iqg1TJG_4d"
      },
      "source": [
        "#LES MATRICES"
      ]
    },
    {
      "cell_type": "code",
      "metadata": {
        "colab": {
          "base_uri": "https://localhost:8080/"
        },
        "id": "WMj0kl7fKd1b",
        "outputId": "3cb62a19-9632-49bb-8eea-168c997af151"
      },
      "source": [
        "# produit (multiplication) element par element\n",
        "\n",
        "a = np.arange(16).reshape(4,4)\n",
        "print(a)\n",
        "b = np.random.rand(16).reshape(4,4)\n",
        "print(b)\n",
        "\n",
        "print(a*b)"
      ],
      "execution_count": 42,
      "outputs": [
        {
          "output_type": "stream",
          "text": [
            "[[ 0  1  2  3]\n",
            " [ 4  5  6  7]\n",
            " [ 8  9 10 11]\n",
            " [12 13 14 15]]\n",
            "[[0.48910654 0.58338173 0.83794234 0.07814146]\n",
            " [0.9422251  0.90317375 0.37056079 0.84736763]\n",
            " [0.03955764 0.91425826 0.15842882 0.65382376]\n",
            " [0.55452041 0.93989284 0.2315907  0.11389384]]\n",
            "[[ 0.          0.58338173  1.67588468  0.23442438]\n",
            " [ 3.7689004   4.51586876  2.22336476  5.9315734 ]\n",
            " [ 0.31646114  8.22832436  1.58428823  7.19206134]\n",
            " [ 6.65424496 12.2186069   3.24226979  1.70840753]]\n"
          ],
          "name": "stdout"
        }
      ]
    },
    {
      "cell_type": "code",
      "metadata": {
        "colab": {
          "base_uri": "https://localhost:8080/"
        },
        "id": "XnTvxskVLCA1",
        "outputId": "ebb8a79e-2a5e-42e8-a433-f0e56fc76f39"
      },
      "source": [
        "# produit matriciel @ ou array1.dot(array2)\n",
        "\n",
        "print(a @ b)\n",
        "print(a.dot(b))"
      ],
      "execution_count": 44,
      "outputs": [
        {
          "output_type": "stream",
          "text": [
            "[[ 2.68490162  5.55136879  1.38219054  2.49669665]\n",
            " [10.7865404  18.91419511  7.77628114  9.26960338]\n",
            " [18.88817917 32.27702142 14.17037175 16.04251011]\n",
            " [26.98981794 45.63984774 20.56446236 22.81541684]]\n",
            "[[ 2.68490162  5.55136879  1.38219054  2.49669665]\n",
            " [10.7865404  18.91419511  7.77628114  9.26960338]\n",
            " [18.88817917 32.27702142 14.17037175 16.04251011]\n",
            " [26.98981794 45.63984774 20.56446236 22.81541684]]\n"
          ],
          "name": "stdout"
        }
      ]
    },
    {
      "cell_type": "code",
      "metadata": {
        "colab": {
          "base_uri": "https://localhost:8080/"
        },
        "id": "A7bk1Y7oMCHS",
        "outputId": "08e5a7c3-7897-490e-bac8-a44306d237a9"
      },
      "source": [
        "# transposer .T ou np.transpose()\n",
        "\n",
        "print(a)\n",
        "print(a.T)\n",
        "print(np.transpose(a))"
      ],
      "execution_count": 47,
      "outputs": [
        {
          "output_type": "stream",
          "text": [
            "[[ 0  1  2  3]\n",
            " [ 4  5  6  7]\n",
            " [ 8  9 10 11]\n",
            " [12 13 14 15]]\n",
            "[[ 0  4  8 12]\n",
            " [ 1  5  9 13]\n",
            " [ 2  6 10 14]\n",
            " [ 3  7 11 15]]\n",
            "[[ 0  4  8 12]\n",
            " [ 1  5  9 13]\n",
            " [ 2  6 10 14]\n",
            " [ 3  7 11 15]]\n"
          ],
          "name": "stdout"
        }
      ]
    },
    {
      "cell_type": "code",
      "metadata": {
        "colab": {
          "base_uri": "https://localhost:8080/"
        },
        "id": "RkNZRMGDMceP",
        "outputId": "4e5a5570-71f7-4d7c-f0a6-22720d1f6a98"
      },
      "source": [
        "# matrice inversible voir wikipedia pour definition\n",
        "#np.linalg.inv(matrix) matrix carré a non singuliere \n",
        "\n",
        "np.linalg.inv(np.random.rand(16).reshape(4,4))"
      ],
      "execution_count": 48,
      "outputs": [
        {
          "output_type": "execute_result",
          "data": {
            "text/plain": [
              "array([[ 0.10434901, -0.04778609,  1.9134684 , -1.44704081],\n",
              "       [ 4.47550256, -4.54086977, -5.13947124,  5.01374441],\n",
              "       [-3.5138126 ,  7.03485397,  4.81476069, -7.22486784],\n",
              "       [-3.45836275,  1.15579096,  1.6203527 ,  1.12883376]])"
            ]
          },
          "metadata": {
            "tags": []
          },
          "execution_count": 48
        }
      ]
    },
    {
      "cell_type": "markdown",
      "metadata": {
        "id": "rtezsxFSND0N"
      },
      "source": [
        "# **PANDAS**\n",
        "# [**PANDAS DOCUMENTATION**](https://pandas.pydata.org/docs/)"
      ]
    },
    {
      "cell_type": "code",
      "metadata": {
        "colab": {
          "base_uri": "https://localhost:8080/"
        },
        "id": "0hqg-9ASNI7p",
        "outputId": "628c6543-38b9-48f4-eede-f762e80eb8b4"
      },
      "source": [
        "# les objets en pandas series et dataframe\n",
        "#pd.series(list/array,index=[...])\n",
        "#pd.series(dict)\n",
        "#pd.DataFrame(array, index=[...])\n",
        "#pd.DataFrame(dict avec list comme value)\n",
        "import pandas as pd\n",
        "\n",
        "print(pd.Series(np.array([1,2,3])))\n",
        "print(pd.Series([5,6,7]))\n"
      ],
      "execution_count": 52,
      "outputs": [
        {
          "output_type": "stream",
          "text": [
            "0    1\n",
            "1    2\n",
            "2    3\n",
            "dtype: int64\n",
            "0    5\n",
            "1    6\n",
            "2    7\n",
            "dtype: int64\n"
          ],
          "name": "stdout"
        }
      ]
    },
    {
      "cell_type": "code",
      "metadata": {
        "colab": {
          "base_uri": "https://localhost:8080/",
          "height": 142
        },
        "id": "-SLhH3zXO06O",
        "outputId": "fa30f0e1-8ccf-419d-872e-6a5fec3ecd21"
      },
      "source": [
        "#pd.DataFrame(array, index=[...])\n",
        "#pd.DataFrame(dict avec list comme value)\n",
        "\n",
        "pd.DataFrame({ 'colonne1':[1,2,3],\n",
        "              'colonne2':[5,4,7]})"
      ],
      "execution_count": 54,
      "outputs": [
        {
          "output_type": "execute_result",
          "data": {
            "text/html": [
              "<div>\n",
              "<style scoped>\n",
              "    .dataframe tbody tr th:only-of-type {\n",
              "        vertical-align: middle;\n",
              "    }\n",
              "\n",
              "    .dataframe tbody tr th {\n",
              "        vertical-align: top;\n",
              "    }\n",
              "\n",
              "    .dataframe thead th {\n",
              "        text-align: right;\n",
              "    }\n",
              "</style>\n",
              "<table border=\"1\" class=\"dataframe\">\n",
              "  <thead>\n",
              "    <tr style=\"text-align: right;\">\n",
              "      <th></th>\n",
              "      <th>colonne1</th>\n",
              "      <th>colonne2</th>\n",
              "    </tr>\n",
              "  </thead>\n",
              "  <tbody>\n",
              "    <tr>\n",
              "      <th>0</th>\n",
              "      <td>1</td>\n",
              "      <td>5</td>\n",
              "    </tr>\n",
              "    <tr>\n",
              "      <th>1</th>\n",
              "      <td>2</td>\n",
              "      <td>4</td>\n",
              "    </tr>\n",
              "    <tr>\n",
              "      <th>2</th>\n",
              "      <td>3</td>\n",
              "      <td>7</td>\n",
              "    </tr>\n",
              "  </tbody>\n",
              "</table>\n",
              "</div>"
            ],
            "text/plain": [
              "   colonne1  colonne2\n",
              "0         1         5\n",
              "1         2         4\n",
              "2         3         7"
            ]
          },
          "metadata": {
            "tags": []
          },
          "execution_count": 54
        }
      ]
    },
    {
      "cell_type": "code",
      "metadata": {
        "colab": {
          "base_uri": "https://localhost:8080/",
          "height": 359
        },
        "id": "PL5wauCkO02Z",
        "outputId": "a264b97e-69ca-4ee5-d188-18239afa19a1"
      },
      "source": [
        "#df.head(n) afficher les n premiere lignes de notre DF\n",
        "\n",
        "df_covid = pd.read_csv('https://raw.githubusercontent.com/CSSEGISandData/COVID-19/master/csse_covid_19_data/csse_covid_19_daily_reports/04-19-2020.csv')\n",
        "\n",
        "df_covid.head(10)"
      ],
      "execution_count": 62,
      "outputs": [
        {
          "output_type": "execute_result",
          "data": {
            "text/html": [
              "<div>\n",
              "<style scoped>\n",
              "    .dataframe tbody tr th:only-of-type {\n",
              "        vertical-align: middle;\n",
              "    }\n",
              "\n",
              "    .dataframe tbody tr th {\n",
              "        vertical-align: top;\n",
              "    }\n",
              "\n",
              "    .dataframe thead th {\n",
              "        text-align: right;\n",
              "    }\n",
              "</style>\n",
              "<table border=\"1\" class=\"dataframe\">\n",
              "  <thead>\n",
              "    <tr style=\"text-align: right;\">\n",
              "      <th></th>\n",
              "      <th>FIPS</th>\n",
              "      <th>Admin2</th>\n",
              "      <th>Province_State</th>\n",
              "      <th>Country_Region</th>\n",
              "      <th>Last_Update</th>\n",
              "      <th>Lat</th>\n",
              "      <th>Long_</th>\n",
              "      <th>Confirmed</th>\n",
              "      <th>Deaths</th>\n",
              "      <th>Recovered</th>\n",
              "      <th>Active</th>\n",
              "      <th>Combined_Key</th>\n",
              "    </tr>\n",
              "  </thead>\n",
              "  <tbody>\n",
              "    <tr>\n",
              "      <th>0</th>\n",
              "      <td>45001.0</td>\n",
              "      <td>Abbeville</td>\n",
              "      <td>South Carolina</td>\n",
              "      <td>US</td>\n",
              "      <td>2020-04-19 23:41:01</td>\n",
              "      <td>34.223334</td>\n",
              "      <td>-82.461707</td>\n",
              "      <td>17</td>\n",
              "      <td>0</td>\n",
              "      <td>0</td>\n",
              "      <td>17</td>\n",
              "      <td>Abbeville, South Carolina, US</td>\n",
              "    </tr>\n",
              "    <tr>\n",
              "      <th>1</th>\n",
              "      <td>22001.0</td>\n",
              "      <td>Acadia</td>\n",
              "      <td>Louisiana</td>\n",
              "      <td>US</td>\n",
              "      <td>2020-04-19 23:41:01</td>\n",
              "      <td>30.295065</td>\n",
              "      <td>-92.414197</td>\n",
              "      <td>110</td>\n",
              "      <td>7</td>\n",
              "      <td>0</td>\n",
              "      <td>103</td>\n",
              "      <td>Acadia, Louisiana, US</td>\n",
              "    </tr>\n",
              "    <tr>\n",
              "      <th>2</th>\n",
              "      <td>51001.0</td>\n",
              "      <td>Accomack</td>\n",
              "      <td>Virginia</td>\n",
              "      <td>US</td>\n",
              "      <td>2020-04-19 23:41:01</td>\n",
              "      <td>37.767072</td>\n",
              "      <td>-75.632346</td>\n",
              "      <td>42</td>\n",
              "      <td>0</td>\n",
              "      <td>0</td>\n",
              "      <td>42</td>\n",
              "      <td>Accomack, Virginia, US</td>\n",
              "    </tr>\n",
              "    <tr>\n",
              "      <th>3</th>\n",
              "      <td>16001.0</td>\n",
              "      <td>Ada</td>\n",
              "      <td>Idaho</td>\n",
              "      <td>US</td>\n",
              "      <td>2020-04-19 23:41:01</td>\n",
              "      <td>43.452658</td>\n",
              "      <td>-116.241552</td>\n",
              "      <td>598</td>\n",
              "      <td>10</td>\n",
              "      <td>0</td>\n",
              "      <td>588</td>\n",
              "      <td>Ada, Idaho, US</td>\n",
              "    </tr>\n",
              "    <tr>\n",
              "      <th>4</th>\n",
              "      <td>19001.0</td>\n",
              "      <td>Adair</td>\n",
              "      <td>Iowa</td>\n",
              "      <td>US</td>\n",
              "      <td>2020-04-19 23:41:01</td>\n",
              "      <td>41.330756</td>\n",
              "      <td>-94.471059</td>\n",
              "      <td>1</td>\n",
              "      <td>0</td>\n",
              "      <td>0</td>\n",
              "      <td>1</td>\n",
              "      <td>Adair, Iowa, US</td>\n",
              "    </tr>\n",
              "    <tr>\n",
              "      <th>5</th>\n",
              "      <td>21001.0</td>\n",
              "      <td>Adair</td>\n",
              "      <td>Kentucky</td>\n",
              "      <td>US</td>\n",
              "      <td>2020-04-19 23:41:01</td>\n",
              "      <td>37.104598</td>\n",
              "      <td>-85.281297</td>\n",
              "      <td>53</td>\n",
              "      <td>3</td>\n",
              "      <td>0</td>\n",
              "      <td>50</td>\n",
              "      <td>Adair, Kentucky, US</td>\n",
              "    </tr>\n",
              "    <tr>\n",
              "      <th>6</th>\n",
              "      <td>29001.0</td>\n",
              "      <td>Adair</td>\n",
              "      <td>Missouri</td>\n",
              "      <td>US</td>\n",
              "      <td>2020-04-19 23:41:01</td>\n",
              "      <td>40.190586</td>\n",
              "      <td>-92.600782</td>\n",
              "      <td>12</td>\n",
              "      <td>0</td>\n",
              "      <td>0</td>\n",
              "      <td>12</td>\n",
              "      <td>Adair, Missouri, US</td>\n",
              "    </tr>\n",
              "    <tr>\n",
              "      <th>7</th>\n",
              "      <td>40001.0</td>\n",
              "      <td>Adair</td>\n",
              "      <td>Oklahoma</td>\n",
              "      <td>US</td>\n",
              "      <td>2020-04-19 23:41:01</td>\n",
              "      <td>35.884942</td>\n",
              "      <td>-94.658593</td>\n",
              "      <td>43</td>\n",
              "      <td>3</td>\n",
              "      <td>0</td>\n",
              "      <td>40</td>\n",
              "      <td>Adair, Oklahoma, US</td>\n",
              "    </tr>\n",
              "    <tr>\n",
              "      <th>8</th>\n",
              "      <td>8001.0</td>\n",
              "      <td>Adams</td>\n",
              "      <td>Colorado</td>\n",
              "      <td>US</td>\n",
              "      <td>2020-04-19 23:41:01</td>\n",
              "      <td>39.874321</td>\n",
              "      <td>-104.336258</td>\n",
              "      <td>915</td>\n",
              "      <td>35</td>\n",
              "      <td>0</td>\n",
              "      <td>880</td>\n",
              "      <td>Adams, Colorado, US</td>\n",
              "    </tr>\n",
              "    <tr>\n",
              "      <th>9</th>\n",
              "      <td>16003.0</td>\n",
              "      <td>Adams</td>\n",
              "      <td>Idaho</td>\n",
              "      <td>US</td>\n",
              "      <td>2020-04-19 23:41:01</td>\n",
              "      <td>44.893336</td>\n",
              "      <td>-116.454525</td>\n",
              "      <td>1</td>\n",
              "      <td>0</td>\n",
              "      <td>0</td>\n",
              "      <td>1</td>\n",
              "      <td>Adams, Idaho, US</td>\n",
              "    </tr>\n",
              "  </tbody>\n",
              "</table>\n",
              "</div>"
            ],
            "text/plain": [
              "      FIPS     Admin2  ... Active                   Combined_Key\n",
              "0  45001.0  Abbeville  ...     17  Abbeville, South Carolina, US\n",
              "1  22001.0     Acadia  ...    103          Acadia, Louisiana, US\n",
              "2  51001.0   Accomack  ...     42         Accomack, Virginia, US\n",
              "3  16001.0        Ada  ...    588                 Ada, Idaho, US\n",
              "4  19001.0      Adair  ...      1                Adair, Iowa, US\n",
              "5  21001.0      Adair  ...     50            Adair, Kentucky, US\n",
              "6  29001.0      Adair  ...     12            Adair, Missouri, US\n",
              "7  40001.0      Adair  ...     40            Adair, Oklahoma, US\n",
              "8   8001.0      Adams  ...    880            Adams, Colorado, US\n",
              "9  16003.0      Adams  ...      1               Adams, Idaho, US\n",
              "\n",
              "[10 rows x 12 columns]"
            ]
          },
          "metadata": {
            "tags": []
          },
          "execution_count": 62
        }
      ]
    },
    {
      "cell_type": "code",
      "metadata": {
        "colab": {
          "base_uri": "https://localhost:8080/",
          "height": 235
        },
        "id": "lsAKkEDuO0sS",
        "outputId": "820fec7a-94c3-41d7-e402-49f9987e1fda"
      },
      "source": [
        "# set_index(), reset_index()index[], reindex(columns=[]), definir un index\n",
        "\n",
        "df_covid.set_index('Country_Region').head(5)"
      ],
      "execution_count": 64,
      "outputs": [
        {
          "output_type": "execute_result",
          "data": {
            "text/html": [
              "<div>\n",
              "<style scoped>\n",
              "    .dataframe tbody tr th:only-of-type {\n",
              "        vertical-align: middle;\n",
              "    }\n",
              "\n",
              "    .dataframe tbody tr th {\n",
              "        vertical-align: top;\n",
              "    }\n",
              "\n",
              "    .dataframe thead th {\n",
              "        text-align: right;\n",
              "    }\n",
              "</style>\n",
              "<table border=\"1\" class=\"dataframe\">\n",
              "  <thead>\n",
              "    <tr style=\"text-align: right;\">\n",
              "      <th></th>\n",
              "      <th>FIPS</th>\n",
              "      <th>Admin2</th>\n",
              "      <th>Province_State</th>\n",
              "      <th>Last_Update</th>\n",
              "      <th>Lat</th>\n",
              "      <th>Long_</th>\n",
              "      <th>Confirmed</th>\n",
              "      <th>Deaths</th>\n",
              "      <th>Recovered</th>\n",
              "      <th>Active</th>\n",
              "      <th>Combined_Key</th>\n",
              "    </tr>\n",
              "    <tr>\n",
              "      <th>Country_Region</th>\n",
              "      <th></th>\n",
              "      <th></th>\n",
              "      <th></th>\n",
              "      <th></th>\n",
              "      <th></th>\n",
              "      <th></th>\n",
              "      <th></th>\n",
              "      <th></th>\n",
              "      <th></th>\n",
              "      <th></th>\n",
              "      <th></th>\n",
              "    </tr>\n",
              "  </thead>\n",
              "  <tbody>\n",
              "    <tr>\n",
              "      <th>US</th>\n",
              "      <td>45001.0</td>\n",
              "      <td>Abbeville</td>\n",
              "      <td>South Carolina</td>\n",
              "      <td>2020-04-19 23:41:01</td>\n",
              "      <td>34.223334</td>\n",
              "      <td>-82.461707</td>\n",
              "      <td>17</td>\n",
              "      <td>0</td>\n",
              "      <td>0</td>\n",
              "      <td>17</td>\n",
              "      <td>Abbeville, South Carolina, US</td>\n",
              "    </tr>\n",
              "    <tr>\n",
              "      <th>US</th>\n",
              "      <td>22001.0</td>\n",
              "      <td>Acadia</td>\n",
              "      <td>Louisiana</td>\n",
              "      <td>2020-04-19 23:41:01</td>\n",
              "      <td>30.295065</td>\n",
              "      <td>-92.414197</td>\n",
              "      <td>110</td>\n",
              "      <td>7</td>\n",
              "      <td>0</td>\n",
              "      <td>103</td>\n",
              "      <td>Acadia, Louisiana, US</td>\n",
              "    </tr>\n",
              "    <tr>\n",
              "      <th>US</th>\n",
              "      <td>51001.0</td>\n",
              "      <td>Accomack</td>\n",
              "      <td>Virginia</td>\n",
              "      <td>2020-04-19 23:41:01</td>\n",
              "      <td>37.767072</td>\n",
              "      <td>-75.632346</td>\n",
              "      <td>42</td>\n",
              "      <td>0</td>\n",
              "      <td>0</td>\n",
              "      <td>42</td>\n",
              "      <td>Accomack, Virginia, US</td>\n",
              "    </tr>\n",
              "    <tr>\n",
              "      <th>US</th>\n",
              "      <td>16001.0</td>\n",
              "      <td>Ada</td>\n",
              "      <td>Idaho</td>\n",
              "      <td>2020-04-19 23:41:01</td>\n",
              "      <td>43.452658</td>\n",
              "      <td>-116.241552</td>\n",
              "      <td>598</td>\n",
              "      <td>10</td>\n",
              "      <td>0</td>\n",
              "      <td>588</td>\n",
              "      <td>Ada, Idaho, US</td>\n",
              "    </tr>\n",
              "    <tr>\n",
              "      <th>US</th>\n",
              "      <td>19001.0</td>\n",
              "      <td>Adair</td>\n",
              "      <td>Iowa</td>\n",
              "      <td>2020-04-19 23:41:01</td>\n",
              "      <td>41.330756</td>\n",
              "      <td>-94.471059</td>\n",
              "      <td>1</td>\n",
              "      <td>0</td>\n",
              "      <td>0</td>\n",
              "      <td>1</td>\n",
              "      <td>Adair, Iowa, US</td>\n",
              "    </tr>\n",
              "  </tbody>\n",
              "</table>\n",
              "</div>"
            ],
            "text/plain": [
              "                   FIPS     Admin2  ... Active                   Combined_Key\n",
              "Country_Region                      ...                                      \n",
              "US              45001.0  Abbeville  ...     17  Abbeville, South Carolina, US\n",
              "US              22001.0     Acadia  ...    103          Acadia, Louisiana, US\n",
              "US              51001.0   Accomack  ...     42         Accomack, Virginia, US\n",
              "US              16001.0        Ada  ...    588                 Ada, Idaho, US\n",
              "US              19001.0      Adair  ...      1                Adair, Iowa, US\n",
              "\n",
              "[5 rows x 11 columns]"
            ]
          },
          "metadata": {
            "tags": []
          },
          "execution_count": 64
        }
      ]
    },
    {
      "cell_type": "code",
      "metadata": {
        "id": "vgNymztdVuEa"
      },
      "source": [
        "#pour enregistrer le changement d'index \n",
        "#df_covid = df_covid.set_index('Country_Region').head(5)\n",
        "#df_covid.set_index('country_Region', inplace=True).head(5)"
      ],
      "execution_count": null,
      "outputs": []
    },
    {
      "cell_type": "code",
      "metadata": {
        "id": "JYm_sf7CWI7x"
      },
      "source": [
        "# renommer les colonnes et index df.rename(columns={old_name:new_name}, index={old_name:new_name})\n",
        "\n",
        "#df_covid.rename(columns={'admin2':'admin'})\n",
        "#df_covid.head(2)"
      ],
      "execution_count": null,
      "outputs": []
    },
    {
      "cell_type": "code",
      "metadata": {
        "colab": {
          "base_uri": "https://localhost:8080/"
        },
        "id": "4_WnG5NtXKnX",
        "outputId": "60453b86-0a8b-4fd6-e4e5-e3a22d3d1ba1"
      },
      "source": [
        "# acceder aux donnée\n",
        "# boolean, selectionner certaines données\n",
        "\n",
        "df_covid[df_covid['Country_Region'] == 'US'].shape"
      ],
      "execution_count": 67,
      "outputs": [
        {
          "output_type": "execute_result",
          "data": {
            "text/plain": [
              "(2810, 12)"
            ]
          },
          "metadata": {
            "tags": []
          },
          "execution_count": 67
        }
      ]
    },
    {
      "cell_type": "code",
      "metadata": {
        "colab": {
          "base_uri": "https://localhost:8080/"
        },
        "id": "6gi8CXrbX4rk",
        "outputId": "dc643979-d6fc-4a91-fd28-e5023ecf74b1"
      },
      "source": [
        "df_covid.shape"
      ],
      "execution_count": 68,
      "outputs": [
        {
          "output_type": "execute_result",
          "data": {
            "text/plain": [
              "(3075, 12)"
            ]
          },
          "metadata": {
            "tags": []
          },
          "execution_count": 68
        }
      ]
    },
    {
      "cell_type": "code",
      "metadata": {
        "colab": {
          "base_uri": "https://localhost:8080/"
        },
        "id": "HtnzMzZCX8s4",
        "outputId": "0e63dc7f-d011-4c5a-bec7-ff61c8ee5bcf"
      },
      "source": [
        "(df_covid[df_covid['Country_Region'] == 'US'].shape[0]/df_covid.shape[0])*100"
      ],
      "execution_count": 69,
      "outputs": [
        {
          "output_type": "execute_result",
          "data": {
            "text/plain": [
              "91.3821138211382"
            ]
          },
          "metadata": {
            "tags": []
          },
          "execution_count": 69
        }
      ]
    },
    {
      "cell_type": "code",
      "metadata": {
        "colab": {
          "base_uri": "https://localhost:8080/"
        },
        "id": "Xukm5kLLYTwM",
        "outputId": "b47772fd-8281-4673-902d-36a384039b5e"
      },
      "source": [
        "#df_covid.columns\n",
        "df_covid.columns"
      ],
      "execution_count": 70,
      "outputs": [
        {
          "output_type": "execute_result",
          "data": {
            "text/plain": [
              "Index(['FIPS', 'Admin2', 'Province_State', 'Country_Region', 'Last_Update',\n",
              "       'Lat', 'Long_', 'Confirmed', 'Deaths', 'Recovered', 'Active',\n",
              "       'Combined_Key'],\n",
              "      dtype='object')"
            ]
          },
          "metadata": {
            "tags": []
          },
          "execution_count": 70
        }
      ]
    },
    {
      "cell_type": "code",
      "metadata": {
        "colab": {
          "base_uri": "https://localhost:8080/",
          "height": 419
        },
        "id": "ReRjtujKYffN",
        "outputId": "ee63304f-9fa5-4c1f-a87e-a5409be5746b"
      },
      "source": [
        "#acceder a des colonnes en particulier \n",
        "df_covid[['Confirmed', 'Deaths', 'Recovered', 'Active']]"
      ],
      "execution_count": 74,
      "outputs": [
        {
          "output_type": "execute_result",
          "data": {
            "text/html": [
              "<div>\n",
              "<style scoped>\n",
              "    .dataframe tbody tr th:only-of-type {\n",
              "        vertical-align: middle;\n",
              "    }\n",
              "\n",
              "    .dataframe tbody tr th {\n",
              "        vertical-align: top;\n",
              "    }\n",
              "\n",
              "    .dataframe thead th {\n",
              "        text-align: right;\n",
              "    }\n",
              "</style>\n",
              "<table border=\"1\" class=\"dataframe\">\n",
              "  <thead>\n",
              "    <tr style=\"text-align: right;\">\n",
              "      <th></th>\n",
              "      <th>Confirmed</th>\n",
              "      <th>Deaths</th>\n",
              "      <th>Recovered</th>\n",
              "      <th>Active</th>\n",
              "    </tr>\n",
              "  </thead>\n",
              "  <tbody>\n",
              "    <tr>\n",
              "      <th>0</th>\n",
              "      <td>17</td>\n",
              "      <td>0</td>\n",
              "      <td>0</td>\n",
              "      <td>17</td>\n",
              "    </tr>\n",
              "    <tr>\n",
              "      <th>1</th>\n",
              "      <td>110</td>\n",
              "      <td>7</td>\n",
              "      <td>0</td>\n",
              "      <td>103</td>\n",
              "    </tr>\n",
              "    <tr>\n",
              "      <th>2</th>\n",
              "      <td>42</td>\n",
              "      <td>0</td>\n",
              "      <td>0</td>\n",
              "      <td>42</td>\n",
              "    </tr>\n",
              "    <tr>\n",
              "      <th>3</th>\n",
              "      <td>598</td>\n",
              "      <td>10</td>\n",
              "      <td>0</td>\n",
              "      <td>588</td>\n",
              "    </tr>\n",
              "    <tr>\n",
              "      <th>4</th>\n",
              "      <td>1</td>\n",
              "      <td>0</td>\n",
              "      <td>0</td>\n",
              "      <td>1</td>\n",
              "    </tr>\n",
              "    <tr>\n",
              "      <th>...</th>\n",
              "      <td>...</td>\n",
              "      <td>...</td>\n",
              "      <td>...</td>\n",
              "      <td>...</td>\n",
              "    </tr>\n",
              "    <tr>\n",
              "      <th>3070</th>\n",
              "      <td>437</td>\n",
              "      <td>3</td>\n",
              "      <td>71</td>\n",
              "      <td>363</td>\n",
              "    </tr>\n",
              "    <tr>\n",
              "      <th>3071</th>\n",
              "      <td>1</td>\n",
              "      <td>0</td>\n",
              "      <td>0</td>\n",
              "      <td>1</td>\n",
              "    </tr>\n",
              "    <tr>\n",
              "      <th>3072</th>\n",
              "      <td>61</td>\n",
              "      <td>3</td>\n",
              "      <td>33</td>\n",
              "      <td>25</td>\n",
              "    </tr>\n",
              "    <tr>\n",
              "      <th>3073</th>\n",
              "      <td>25</td>\n",
              "      <td>3</td>\n",
              "      <td>2</td>\n",
              "      <td>20</td>\n",
              "    </tr>\n",
              "    <tr>\n",
              "      <th>3074</th>\n",
              "      <td>0</td>\n",
              "      <td>0</td>\n",
              "      <td>0</td>\n",
              "      <td>0</td>\n",
              "    </tr>\n",
              "  </tbody>\n",
              "</table>\n",
              "<p>3075 rows × 4 columns</p>\n",
              "</div>"
            ],
            "text/plain": [
              "      Confirmed  Deaths  Recovered  Active\n",
              "0            17       0          0      17\n",
              "1           110       7          0     103\n",
              "2            42       0          0      42\n",
              "3           598      10          0     588\n",
              "4             1       0          0       1\n",
              "...         ...     ...        ...     ...\n",
              "3070        437       3         71     363\n",
              "3071          1       0          0       1\n",
              "3072         61       3         33      25\n",
              "3073         25       3          2      20\n",
              "3074          0       0          0       0\n",
              "\n",
              "[3075 rows x 4 columns]"
            ]
          },
          "metadata": {
            "tags": []
          },
          "execution_count": 74
        }
      ]
    },
    {
      "cell_type": "code",
      "metadata": {
        "colab": {
          "base_uri": "https://localhost:8080/",
          "height": 450
        },
        "id": "IOkL3Wt-Y8VL",
        "outputId": "a962a2cf-9b3c-42d5-dc99-358dcb515495"
      },
      "source": [
        "#df.loc[nom_index] acceder à la ligne qui correspond a l'index\n",
        "#df.iloc[numero_ligne] acceder aux valeur d'un certain numero de ligne\n",
        "df_covid.set_index('Country_Region').loc['US']"
      ],
      "execution_count": 75,
      "outputs": [
        {
          "output_type": "execute_result",
          "data": {
            "text/html": [
              "<div>\n",
              "<style scoped>\n",
              "    .dataframe tbody tr th:only-of-type {\n",
              "        vertical-align: middle;\n",
              "    }\n",
              "\n",
              "    .dataframe tbody tr th {\n",
              "        vertical-align: top;\n",
              "    }\n",
              "\n",
              "    .dataframe thead th {\n",
              "        text-align: right;\n",
              "    }\n",
              "</style>\n",
              "<table border=\"1\" class=\"dataframe\">\n",
              "  <thead>\n",
              "    <tr style=\"text-align: right;\">\n",
              "      <th></th>\n",
              "      <th>FIPS</th>\n",
              "      <th>Admin2</th>\n",
              "      <th>Province_State</th>\n",
              "      <th>Last_Update</th>\n",
              "      <th>Lat</th>\n",
              "      <th>Long_</th>\n",
              "      <th>Confirmed</th>\n",
              "      <th>Deaths</th>\n",
              "      <th>Recovered</th>\n",
              "      <th>Active</th>\n",
              "      <th>Combined_Key</th>\n",
              "    </tr>\n",
              "    <tr>\n",
              "      <th>Country_Region</th>\n",
              "      <th></th>\n",
              "      <th></th>\n",
              "      <th></th>\n",
              "      <th></th>\n",
              "      <th></th>\n",
              "      <th></th>\n",
              "      <th></th>\n",
              "      <th></th>\n",
              "      <th></th>\n",
              "      <th></th>\n",
              "      <th></th>\n",
              "    </tr>\n",
              "  </thead>\n",
              "  <tbody>\n",
              "    <tr>\n",
              "      <th>US</th>\n",
              "      <td>45001.0</td>\n",
              "      <td>Abbeville</td>\n",
              "      <td>South Carolina</td>\n",
              "      <td>2020-04-19 23:41:01</td>\n",
              "      <td>34.223334</td>\n",
              "      <td>-82.461707</td>\n",
              "      <td>17</td>\n",
              "      <td>0</td>\n",
              "      <td>0</td>\n",
              "      <td>17</td>\n",
              "      <td>Abbeville, South Carolina, US</td>\n",
              "    </tr>\n",
              "    <tr>\n",
              "      <th>US</th>\n",
              "      <td>22001.0</td>\n",
              "      <td>Acadia</td>\n",
              "      <td>Louisiana</td>\n",
              "      <td>2020-04-19 23:41:01</td>\n",
              "      <td>30.295065</td>\n",
              "      <td>-92.414197</td>\n",
              "      <td>110</td>\n",
              "      <td>7</td>\n",
              "      <td>0</td>\n",
              "      <td>103</td>\n",
              "      <td>Acadia, Louisiana, US</td>\n",
              "    </tr>\n",
              "    <tr>\n",
              "      <th>US</th>\n",
              "      <td>51001.0</td>\n",
              "      <td>Accomack</td>\n",
              "      <td>Virginia</td>\n",
              "      <td>2020-04-19 23:41:01</td>\n",
              "      <td>37.767072</td>\n",
              "      <td>-75.632346</td>\n",
              "      <td>42</td>\n",
              "      <td>0</td>\n",
              "      <td>0</td>\n",
              "      <td>42</td>\n",
              "      <td>Accomack, Virginia, US</td>\n",
              "    </tr>\n",
              "    <tr>\n",
              "      <th>US</th>\n",
              "      <td>16001.0</td>\n",
              "      <td>Ada</td>\n",
              "      <td>Idaho</td>\n",
              "      <td>2020-04-19 23:41:01</td>\n",
              "      <td>43.452658</td>\n",
              "      <td>-116.241552</td>\n",
              "      <td>598</td>\n",
              "      <td>10</td>\n",
              "      <td>0</td>\n",
              "      <td>588</td>\n",
              "      <td>Ada, Idaho, US</td>\n",
              "    </tr>\n",
              "    <tr>\n",
              "      <th>US</th>\n",
              "      <td>19001.0</td>\n",
              "      <td>Adair</td>\n",
              "      <td>Iowa</td>\n",
              "      <td>2020-04-19 23:41:01</td>\n",
              "      <td>41.330756</td>\n",
              "      <td>-94.471059</td>\n",
              "      <td>1</td>\n",
              "      <td>0</td>\n",
              "      <td>0</td>\n",
              "      <td>1</td>\n",
              "      <td>Adair, Iowa, US</td>\n",
              "    </tr>\n",
              "    <tr>\n",
              "      <th>...</th>\n",
              "      <td>...</td>\n",
              "      <td>...</td>\n",
              "      <td>...</td>\n",
              "      <td>...</td>\n",
              "      <td>...</td>\n",
              "      <td>...</td>\n",
              "      <td>...</td>\n",
              "      <td>...</td>\n",
              "      <td>...</td>\n",
              "      <td>...</td>\n",
              "      <td>...</td>\n",
              "    </tr>\n",
              "    <tr>\n",
              "      <th>US</th>\n",
              "      <td>66.0</td>\n",
              "      <td>NaN</td>\n",
              "      <td>Guam</td>\n",
              "      <td>2020-04-19 23:41:01</td>\n",
              "      <td>13.444300</td>\n",
              "      <td>144.793700</td>\n",
              "      <td>136</td>\n",
              "      <td>5</td>\n",
              "      <td>0</td>\n",
              "      <td>131</td>\n",
              "      <td>Guam, US</td>\n",
              "    </tr>\n",
              "    <tr>\n",
              "      <th>US</th>\n",
              "      <td>69.0</td>\n",
              "      <td>NaN</td>\n",
              "      <td>Northern Mariana Islands</td>\n",
              "      <td>2020-04-19 23:41:01</td>\n",
              "      <td>15.097900</td>\n",
              "      <td>145.673900</td>\n",
              "      <td>14</td>\n",
              "      <td>2</td>\n",
              "      <td>0</td>\n",
              "      <td>12</td>\n",
              "      <td>Northern Mariana Islands, US</td>\n",
              "    </tr>\n",
              "    <tr>\n",
              "      <th>US</th>\n",
              "      <td>72.0</td>\n",
              "      <td>NaN</td>\n",
              "      <td>Puerto Rico</td>\n",
              "      <td>2020-04-19 23:41:01</td>\n",
              "      <td>18.220800</td>\n",
              "      <td>-66.590100</td>\n",
              "      <td>1213</td>\n",
              "      <td>62</td>\n",
              "      <td>0</td>\n",
              "      <td>1151</td>\n",
              "      <td>Puerto Rico, US</td>\n",
              "    </tr>\n",
              "    <tr>\n",
              "      <th>US</th>\n",
              "      <td>NaN</td>\n",
              "      <td>NaN</td>\n",
              "      <td>Recovered</td>\n",
              "      <td>2020-04-19 23:41:01</td>\n",
              "      <td>NaN</td>\n",
              "      <td>NaN</td>\n",
              "      <td>0</td>\n",
              "      <td>0</td>\n",
              "      <td>70337</td>\n",
              "      <td>-70337</td>\n",
              "      <td>Recovered, US</td>\n",
              "    </tr>\n",
              "    <tr>\n",
              "      <th>US</th>\n",
              "      <td>78.0</td>\n",
              "      <td>NaN</td>\n",
              "      <td>Virgin Islands</td>\n",
              "      <td>2020-04-19 23:41:01</td>\n",
              "      <td>18.335800</td>\n",
              "      <td>-64.896300</td>\n",
              "      <td>53</td>\n",
              "      <td>3</td>\n",
              "      <td>0</td>\n",
              "      <td>50</td>\n",
              "      <td>Virgin Islands, US</td>\n",
              "    </tr>\n",
              "  </tbody>\n",
              "</table>\n",
              "<p>2810 rows × 11 columns</p>\n",
              "</div>"
            ],
            "text/plain": [
              "                   FIPS     Admin2  ... Active                   Combined_Key\n",
              "Country_Region                      ...                                      \n",
              "US              45001.0  Abbeville  ...     17  Abbeville, South Carolina, US\n",
              "US              22001.0     Acadia  ...    103          Acadia, Louisiana, US\n",
              "US              51001.0   Accomack  ...     42         Accomack, Virginia, US\n",
              "US              16001.0        Ada  ...    588                 Ada, Idaho, US\n",
              "US              19001.0      Adair  ...      1                Adair, Iowa, US\n",
              "...                 ...        ...  ...    ...                            ...\n",
              "US                 66.0        NaN  ...    131                       Guam, US\n",
              "US                 69.0        NaN  ...     12   Northern Mariana Islands, US\n",
              "US                 72.0        NaN  ...   1151                Puerto Rico, US\n",
              "US                  NaN        NaN  ... -70337                  Recovered, US\n",
              "US                 78.0        NaN  ...     50             Virgin Islands, US\n",
              "\n",
              "[2810 rows x 11 columns]"
            ]
          },
          "metadata": {
            "tags": []
          },
          "execution_count": 75
        }
      ]
    },
    {
      "cell_type": "code",
      "metadata": {
        "colab": {
          "base_uri": "https://localhost:8080/"
        },
        "id": "yhYCygSSZpb3",
        "outputId": "9a10f02b-3642-40b4-8e60-a2a2b24cf3e8"
      },
      "source": [
        "# recuperation d'une ligne en particulier ici la 4\n",
        "df_covid.iloc[4]"
      ],
      "execution_count": 76,
      "outputs": [
        {
          "output_type": "execute_result",
          "data": {
            "text/plain": [
              "FIPS                            19001\n",
              "Admin2                          Adair\n",
              "Province_State                   Iowa\n",
              "Country_Region                     US\n",
              "Last_Update       2020-04-19 23:41:01\n",
              "Lat                           41.3308\n",
              "Long_                        -94.4711\n",
              "Confirmed                           1\n",
              "Deaths                              0\n",
              "Recovered                           0\n",
              "Active                              1\n",
              "Combined_Key          Adair, Iowa, US\n",
              "Name: 4, dtype: object"
            ]
          },
          "metadata": {
            "tags": []
          },
          "execution_count": 76
        }
      ]
    },
    {
      "cell_type": "code",
      "metadata": {
        "colab": {
          "base_uri": "https://localhost:8080/",
          "height": 450
        },
        "id": "huc8fPWaZ-iR",
        "outputId": "54affbba-dfc5-46d7-944e-2d1ffd820eec"
      },
      "source": [
        "#loc et iloc peuvent prendre plusieur dimension entre crochets\n",
        "#df.loc[nom_index, colonne] loc et iloc peuvent prendre plusieurs dimension\n",
        "\n",
        "df_covid.set_index('Country_Region').loc['US',['Active','Deaths']]"
      ],
      "execution_count": 77,
      "outputs": [
        {
          "output_type": "execute_result",
          "data": {
            "text/html": [
              "<div>\n",
              "<style scoped>\n",
              "    .dataframe tbody tr th:only-of-type {\n",
              "        vertical-align: middle;\n",
              "    }\n",
              "\n",
              "    .dataframe tbody tr th {\n",
              "        vertical-align: top;\n",
              "    }\n",
              "\n",
              "    .dataframe thead th {\n",
              "        text-align: right;\n",
              "    }\n",
              "</style>\n",
              "<table border=\"1\" class=\"dataframe\">\n",
              "  <thead>\n",
              "    <tr style=\"text-align: right;\">\n",
              "      <th></th>\n",
              "      <th>Active</th>\n",
              "      <th>Deaths</th>\n",
              "    </tr>\n",
              "    <tr>\n",
              "      <th>Country_Region</th>\n",
              "      <th></th>\n",
              "      <th></th>\n",
              "    </tr>\n",
              "  </thead>\n",
              "  <tbody>\n",
              "    <tr>\n",
              "      <th>US</th>\n",
              "      <td>17</td>\n",
              "      <td>0</td>\n",
              "    </tr>\n",
              "    <tr>\n",
              "      <th>US</th>\n",
              "      <td>103</td>\n",
              "      <td>7</td>\n",
              "    </tr>\n",
              "    <tr>\n",
              "      <th>US</th>\n",
              "      <td>42</td>\n",
              "      <td>0</td>\n",
              "    </tr>\n",
              "    <tr>\n",
              "      <th>US</th>\n",
              "      <td>588</td>\n",
              "      <td>10</td>\n",
              "    </tr>\n",
              "    <tr>\n",
              "      <th>US</th>\n",
              "      <td>1</td>\n",
              "      <td>0</td>\n",
              "    </tr>\n",
              "    <tr>\n",
              "      <th>...</th>\n",
              "      <td>...</td>\n",
              "      <td>...</td>\n",
              "    </tr>\n",
              "    <tr>\n",
              "      <th>US</th>\n",
              "      <td>131</td>\n",
              "      <td>5</td>\n",
              "    </tr>\n",
              "    <tr>\n",
              "      <th>US</th>\n",
              "      <td>12</td>\n",
              "      <td>2</td>\n",
              "    </tr>\n",
              "    <tr>\n",
              "      <th>US</th>\n",
              "      <td>1151</td>\n",
              "      <td>62</td>\n",
              "    </tr>\n",
              "    <tr>\n",
              "      <th>US</th>\n",
              "      <td>-70337</td>\n",
              "      <td>0</td>\n",
              "    </tr>\n",
              "    <tr>\n",
              "      <th>US</th>\n",
              "      <td>50</td>\n",
              "      <td>3</td>\n",
              "    </tr>\n",
              "  </tbody>\n",
              "</table>\n",
              "<p>2810 rows × 2 columns</p>\n",
              "</div>"
            ],
            "text/plain": [
              "                Active  Deaths\n",
              "Country_Region                \n",
              "US                  17       0\n",
              "US                 103       7\n",
              "US                  42       0\n",
              "US                 588      10\n",
              "US                   1       0\n",
              "...                ...     ...\n",
              "US                 131       5\n",
              "US                  12       2\n",
              "US                1151      62\n",
              "US              -70337       0\n",
              "US                  50       3\n",
              "\n",
              "[2810 rows x 2 columns]"
            ]
          },
          "metadata": {
            "tags": []
          },
          "execution_count": 77
        }
      ]
    },
    {
      "cell_type": "code",
      "metadata": {
        "colab": {
          "base_uri": "https://localhost:8080/",
          "height": 419
        },
        "id": "EWTq4vJ-bCAQ",
        "outputId": "28e2f6e0-301d-4c97-e6ae-fcfdd95449bd"
      },
      "source": [
        "# modifier les données \n",
        "# df.insert(position, nom_colonne, valeurs) inserer une colonne\n",
        "\n",
        "df_covid[['Active','Deaths']]"
      ],
      "execution_count": 78,
      "outputs": [
        {
          "output_type": "execute_result",
          "data": {
            "text/html": [
              "<div>\n",
              "<style scoped>\n",
              "    .dataframe tbody tr th:only-of-type {\n",
              "        vertical-align: middle;\n",
              "    }\n",
              "\n",
              "    .dataframe tbody tr th {\n",
              "        vertical-align: top;\n",
              "    }\n",
              "\n",
              "    .dataframe thead th {\n",
              "        text-align: right;\n",
              "    }\n",
              "</style>\n",
              "<table border=\"1\" class=\"dataframe\">\n",
              "  <thead>\n",
              "    <tr style=\"text-align: right;\">\n",
              "      <th></th>\n",
              "      <th>Active</th>\n",
              "      <th>Deaths</th>\n",
              "    </tr>\n",
              "  </thead>\n",
              "  <tbody>\n",
              "    <tr>\n",
              "      <th>0</th>\n",
              "      <td>17</td>\n",
              "      <td>0</td>\n",
              "    </tr>\n",
              "    <tr>\n",
              "      <th>1</th>\n",
              "      <td>103</td>\n",
              "      <td>7</td>\n",
              "    </tr>\n",
              "    <tr>\n",
              "      <th>2</th>\n",
              "      <td>42</td>\n",
              "      <td>0</td>\n",
              "    </tr>\n",
              "    <tr>\n",
              "      <th>3</th>\n",
              "      <td>588</td>\n",
              "      <td>10</td>\n",
              "    </tr>\n",
              "    <tr>\n",
              "      <th>4</th>\n",
              "      <td>1</td>\n",
              "      <td>0</td>\n",
              "    </tr>\n",
              "    <tr>\n",
              "      <th>...</th>\n",
              "      <td>...</td>\n",
              "      <td>...</td>\n",
              "    </tr>\n",
              "    <tr>\n",
              "      <th>3070</th>\n",
              "      <td>363</td>\n",
              "      <td>3</td>\n",
              "    </tr>\n",
              "    <tr>\n",
              "      <th>3071</th>\n",
              "      <td>1</td>\n",
              "      <td>0</td>\n",
              "    </tr>\n",
              "    <tr>\n",
              "      <th>3072</th>\n",
              "      <td>25</td>\n",
              "      <td>3</td>\n",
              "    </tr>\n",
              "    <tr>\n",
              "      <th>3073</th>\n",
              "      <td>20</td>\n",
              "      <td>3</td>\n",
              "    </tr>\n",
              "    <tr>\n",
              "      <th>3074</th>\n",
              "      <td>0</td>\n",
              "      <td>0</td>\n",
              "    </tr>\n",
              "  </tbody>\n",
              "</table>\n",
              "<p>3075 rows × 2 columns</p>\n",
              "</div>"
            ],
            "text/plain": [
              "      Active  Deaths\n",
              "0         17       0\n",
              "1        103       7\n",
              "2         42       0\n",
              "3        588      10\n",
              "4          1       0\n",
              "...      ...     ...\n",
              "3070     363       3\n",
              "3071       1       0\n",
              "3072      25       3\n",
              "3073      20       3\n",
              "3074       0       0\n",
              "\n",
              "[3075 rows x 2 columns]"
            ]
          },
          "metadata": {
            "tags": []
          },
          "execution_count": 78
        }
      ]
    },
    {
      "cell_type": "code",
      "metadata": {
        "id": "XBNW-etBfUZD"
      },
      "source": [
        "# fonction utiles df.summary(), df.info(), df.describe(), serie.value_counts()"
      ],
      "execution_count": null,
      "outputs": []
    },
    {
      "cell_type": "code",
      "metadata": {
        "colab": {
          "base_uri": "https://localhost:8080/",
          "height": 297
        },
        "id": "A79czgerfzBW",
        "outputId": "d534754a-5af5-460d-e4f5-254120450edd"
      },
      "source": [
        "df_covid.describe()"
      ],
      "execution_count": 79,
      "outputs": [
        {
          "output_type": "execute_result",
          "data": {
            "text/html": [
              "<div>\n",
              "<style scoped>\n",
              "    .dataframe tbody tr th:only-of-type {\n",
              "        vertical-align: middle;\n",
              "    }\n",
              "\n",
              "    .dataframe tbody tr th {\n",
              "        vertical-align: top;\n",
              "    }\n",
              "\n",
              "    .dataframe thead th {\n",
              "        text-align: right;\n",
              "    }\n",
              "</style>\n",
              "<table border=\"1\" class=\"dataframe\">\n",
              "  <thead>\n",
              "    <tr style=\"text-align: right;\">\n",
              "      <th></th>\n",
              "      <th>FIPS</th>\n",
              "      <th>Lat</th>\n",
              "      <th>Long_</th>\n",
              "      <th>Confirmed</th>\n",
              "      <th>Deaths</th>\n",
              "      <th>Recovered</th>\n",
              "      <th>Active</th>\n",
              "    </tr>\n",
              "  </thead>\n",
              "  <tbody>\n",
              "    <tr>\n",
              "      <th>count</th>\n",
              "      <td>2799.000000</td>\n",
              "      <td>3014.000000</td>\n",
              "      <td>3014.000000</td>\n",
              "      <td>3075.000000</td>\n",
              "      <td>3075.000000</td>\n",
              "      <td>3075.000000</td>\n",
              "      <td>3075.000000</td>\n",
              "    </tr>\n",
              "    <tr>\n",
              "      <th>mean</th>\n",
              "      <td>31226.101108</td>\n",
              "      <td>36.669896</td>\n",
              "      <td>-81.144071</td>\n",
              "      <td>780.779837</td>\n",
              "      <td>53.989268</td>\n",
              "      <td>203.002602</td>\n",
              "      <td>524.366179</td>\n",
              "    </tr>\n",
              "    <tr>\n",
              "      <th>std</th>\n",
              "      <td>17232.001408</td>\n",
              "      <td>9.985197</td>\n",
              "      <td>40.088571</td>\n",
              "      <td>7682.659715</td>\n",
              "      <td>799.932507</td>\n",
              "      <td>3171.394172</td>\n",
              "      <td>5103.319653</td>\n",
              "    </tr>\n",
              "    <tr>\n",
              "      <th>min</th>\n",
              "      <td>66.000000</td>\n",
              "      <td>-51.796300</td>\n",
              "      <td>-172.104600</td>\n",
              "      <td>0.000000</td>\n",
              "      <td>0.000000</td>\n",
              "      <td>0.000000</td>\n",
              "      <td>-70337.000000</td>\n",
              "    </tr>\n",
              "    <tr>\n",
              "      <th>25%</th>\n",
              "      <td>18108.000000</td>\n",
              "      <td>33.792053</td>\n",
              "      <td>-95.857434</td>\n",
              "      <td>5.000000</td>\n",
              "      <td>0.000000</td>\n",
              "      <td>0.000000</td>\n",
              "      <td>4.000000</td>\n",
              "    </tr>\n",
              "    <tr>\n",
              "      <th>50%</th>\n",
              "      <td>29123.000000</td>\n",
              "      <td>37.852768</td>\n",
              "      <td>-87.668073</td>\n",
              "      <td>18.000000</td>\n",
              "      <td>0.000000</td>\n",
              "      <td>0.000000</td>\n",
              "      <td>17.000000</td>\n",
              "    </tr>\n",
              "    <tr>\n",
              "      <th>75%</th>\n",
              "      <td>46061.000000</td>\n",
              "      <td>41.526385</td>\n",
              "      <td>-81.141049</td>\n",
              "      <td>89.500000</td>\n",
              "      <td>3.000000</td>\n",
              "      <td>0.000000</td>\n",
              "      <td>78.000000</td>\n",
              "    </tr>\n",
              "    <tr>\n",
              "      <th>max</th>\n",
              "      <td>99999.000000</td>\n",
              "      <td>71.706900</td>\n",
              "      <td>178.065000</td>\n",
              "      <td>198674.000000</td>\n",
              "      <td>23660.000000</td>\n",
              "      <td>88000.000000</td>\n",
              "      <td>124249.000000</td>\n",
              "    </tr>\n",
              "  </tbody>\n",
              "</table>\n",
              "</div>"
            ],
            "text/plain": [
              "               FIPS          Lat  ...     Recovered         Active\n",
              "count   2799.000000  3014.000000  ...   3075.000000    3075.000000\n",
              "mean   31226.101108    36.669896  ...    203.002602     524.366179\n",
              "std    17232.001408     9.985197  ...   3171.394172    5103.319653\n",
              "min       66.000000   -51.796300  ...      0.000000  -70337.000000\n",
              "25%    18108.000000    33.792053  ...      0.000000       4.000000\n",
              "50%    29123.000000    37.852768  ...      0.000000      17.000000\n",
              "75%    46061.000000    41.526385  ...      0.000000      78.000000\n",
              "max    99999.000000    71.706900  ...  88000.000000  124249.000000\n",
              "\n",
              "[8 rows x 7 columns]"
            ]
          },
          "metadata": {
            "tags": []
          },
          "execution_count": 79
        }
      ]
    },
    {
      "cell_type": "code",
      "metadata": {
        "colab": {
          "base_uri": "https://localhost:8080/"
        },
        "id": "cCsO14hmgEZC",
        "outputId": "04d9b5a9-809f-438d-d515-7cb6f11ac986"
      },
      "source": [
        "df_covid.info()"
      ],
      "execution_count": 81,
      "outputs": [
        {
          "output_type": "stream",
          "text": [
            "<class 'pandas.core.frame.DataFrame'>\n",
            "RangeIndex: 3075 entries, 0 to 3074\n",
            "Data columns (total 12 columns):\n",
            " #   Column          Non-Null Count  Dtype  \n",
            "---  ------          --------------  -----  \n",
            " 0   FIPS            2799 non-null   float64\n",
            " 1   Admin2          2803 non-null   object \n",
            " 2   Province_State  2894 non-null   object \n",
            " 3   Country_Region  3075 non-null   object \n",
            " 4   Last_Update     3075 non-null   object \n",
            " 5   Lat             3014 non-null   float64\n",
            " 6   Long_           3014 non-null   float64\n",
            " 7   Confirmed       3075 non-null   int64  \n",
            " 8   Deaths          3075 non-null   int64  \n",
            " 9   Recovered       3075 non-null   int64  \n",
            " 10  Active          3075 non-null   int64  \n",
            " 11  Combined_Key    3075 non-null   object \n",
            "dtypes: float64(3), int64(4), object(5)\n",
            "memory usage: 288.4+ KB\n"
          ],
          "name": "stdout"
        }
      ]
    },
    {
      "cell_type": "code",
      "metadata": {
        "colab": {
          "base_uri": "https://localhost:8080/"
        },
        "id": "Pp2s_ZEFgKgm",
        "outputId": "23099a29-6517-4f96-c32b-96d638b7daea"
      },
      "source": [
        "df_covid['Country_Region'].value_counts()"
      ],
      "execution_count": 90,
      "outputs": [
        {
          "output_type": "execute_result",
          "data": {
            "text/plain": [
              "US                2810\n",
              "China               34\n",
              "Canada              15\n",
              "United Kingdom      12\n",
              "France              11\n",
              "                  ... \n",
              "Laos                 1\n",
              "Oman                 1\n",
              "Mexico               1\n",
              "Italy                1\n",
              "Somalia              1\n",
              "Name: Country_Region, Length: 185, dtype: int64"
            ]
          },
          "metadata": {
            "tags": []
          },
          "execution_count": 90
        }
      ]
    },
    {
      "cell_type": "code",
      "metadata": {
        "colab": {
          "base_uri": "https://localhost:8080/",
          "height": 390
        },
        "id": "mLo3bsb5hJVh",
        "outputId": "873924d7-b4e1-450e-c307-263d17043580"
      },
      "source": [
        "df_covid[df_covid['Country_Region']=='France']"
      ],
      "execution_count": 91,
      "outputs": [
        {
          "output_type": "execute_result",
          "data": {
            "text/html": [
              "<div>\n",
              "<style scoped>\n",
              "    .dataframe tbody tr th:only-of-type {\n",
              "        vertical-align: middle;\n",
              "    }\n",
              "\n",
              "    .dataframe tbody tr th {\n",
              "        vertical-align: top;\n",
              "    }\n",
              "\n",
              "    .dataframe thead th {\n",
              "        text-align: right;\n",
              "    }\n",
              "</style>\n",
              "<table border=\"1\" class=\"dataframe\">\n",
              "  <thead>\n",
              "    <tr style=\"text-align: right;\">\n",
              "      <th></th>\n",
              "      <th>FIPS</th>\n",
              "      <th>Admin2</th>\n",
              "      <th>Province_State</th>\n",
              "      <th>Country_Region</th>\n",
              "      <th>Last_Update</th>\n",
              "      <th>Lat</th>\n",
              "      <th>Long_</th>\n",
              "      <th>Confirmed</th>\n",
              "      <th>Deaths</th>\n",
              "      <th>Recovered</th>\n",
              "      <th>Active</th>\n",
              "      <th>Combined_Key</th>\n",
              "    </tr>\n",
              "  </thead>\n",
              "  <tbody>\n",
              "    <tr>\n",
              "      <th>2820</th>\n",
              "      <td>NaN</td>\n",
              "      <td>NaN</td>\n",
              "      <td>French Guiana</td>\n",
              "      <td>France</td>\n",
              "      <td>2020-04-19 23:40:41</td>\n",
              "      <td>4.000000</td>\n",
              "      <td>-53.000000</td>\n",
              "      <td>96</td>\n",
              "      <td>0</td>\n",
              "      <td>64</td>\n",
              "      <td>32</td>\n",
              "      <td>French Guiana, France</td>\n",
              "    </tr>\n",
              "    <tr>\n",
              "      <th>2821</th>\n",
              "      <td>NaN</td>\n",
              "      <td>NaN</td>\n",
              "      <td>French Polynesia</td>\n",
              "      <td>France</td>\n",
              "      <td>2020-04-19 23:40:41</td>\n",
              "      <td>-17.679700</td>\n",
              "      <td>-149.406800</td>\n",
              "      <td>55</td>\n",
              "      <td>0</td>\n",
              "      <td>2</td>\n",
              "      <td>53</td>\n",
              "      <td>French Polynesia, France</td>\n",
              "    </tr>\n",
              "    <tr>\n",
              "      <th>2828</th>\n",
              "      <td>NaN</td>\n",
              "      <td>NaN</td>\n",
              "      <td>Guadeloupe</td>\n",
              "      <td>France</td>\n",
              "      <td>2020-04-19 23:40:41</td>\n",
              "      <td>16.265000</td>\n",
              "      <td>-61.551000</td>\n",
              "      <td>148</td>\n",
              "      <td>8</td>\n",
              "      <td>73</td>\n",
              "      <td>67</td>\n",
              "      <td>Guadeloupe, France</td>\n",
              "    </tr>\n",
              "    <tr>\n",
              "      <th>2848</th>\n",
              "      <td>NaN</td>\n",
              "      <td>NaN</td>\n",
              "      <td>Martinique</td>\n",
              "      <td>France</td>\n",
              "      <td>2020-04-19 23:40:41</td>\n",
              "      <td>14.641500</td>\n",
              "      <td>-61.024200</td>\n",
              "      <td>163</td>\n",
              "      <td>12</td>\n",
              "      <td>73</td>\n",
              "      <td>78</td>\n",
              "      <td>Martinique, France</td>\n",
              "    </tr>\n",
              "    <tr>\n",
              "      <th>2849</th>\n",
              "      <td>NaN</td>\n",
              "      <td>NaN</td>\n",
              "      <td>Mayotte</td>\n",
              "      <td>France</td>\n",
              "      <td>2020-04-19 23:40:41</td>\n",
              "      <td>-12.827500</td>\n",
              "      <td>45.166244</td>\n",
              "      <td>271</td>\n",
              "      <td>4</td>\n",
              "      <td>117</td>\n",
              "      <td>150</td>\n",
              "      <td>Mayotte, France</td>\n",
              "    </tr>\n",
              "    <tr>\n",
              "      <th>2852</th>\n",
              "      <td>NaN</td>\n",
              "      <td>NaN</td>\n",
              "      <td>New Caledonia</td>\n",
              "      <td>France</td>\n",
              "      <td>2020-04-19 23:40:41</td>\n",
              "      <td>-20.904305</td>\n",
              "      <td>165.618042</td>\n",
              "      <td>18</td>\n",
              "      <td>0</td>\n",
              "      <td>15</td>\n",
              "      <td>3</td>\n",
              "      <td>New Caledonia, France</td>\n",
              "    </tr>\n",
              "    <tr>\n",
              "      <th>2869</th>\n",
              "      <td>NaN</td>\n",
              "      <td>NaN</td>\n",
              "      <td>Reunion</td>\n",
              "      <td>France</td>\n",
              "      <td>2020-04-19 23:40:41</td>\n",
              "      <td>-21.115100</td>\n",
              "      <td>55.536400</td>\n",
              "      <td>408</td>\n",
              "      <td>0</td>\n",
              "      <td>237</td>\n",
              "      <td>171</td>\n",
              "      <td>Reunion, France</td>\n",
              "    </tr>\n",
              "    <tr>\n",
              "      <th>2870</th>\n",
              "      <td>NaN</td>\n",
              "      <td>NaN</td>\n",
              "      <td>Saint Barthelemy</td>\n",
              "      <td>France</td>\n",
              "      <td>2020-04-19 23:40:41</td>\n",
              "      <td>17.900000</td>\n",
              "      <td>-62.833300</td>\n",
              "      <td>6</td>\n",
              "      <td>0</td>\n",
              "      <td>5</td>\n",
              "      <td>1</td>\n",
              "      <td>Saint Barthelemy, France</td>\n",
              "    </tr>\n",
              "    <tr>\n",
              "      <th>2872</th>\n",
              "      <td>NaN</td>\n",
              "      <td>NaN</td>\n",
              "      <td>Saint Pierre and Miquelon</td>\n",
              "      <td>France</td>\n",
              "      <td>2020-04-19 23:40:41</td>\n",
              "      <td>46.885200</td>\n",
              "      <td>-56.315900</td>\n",
              "      <td>1</td>\n",
              "      <td>0</td>\n",
              "      <td>0</td>\n",
              "      <td>1</td>\n",
              "      <td>Saint Pierre and Miquelon, France</td>\n",
              "    </tr>\n",
              "    <tr>\n",
              "      <th>2881</th>\n",
              "      <td>NaN</td>\n",
              "      <td>NaN</td>\n",
              "      <td>St Martin</td>\n",
              "      <td>France</td>\n",
              "      <td>2020-04-19 23:40:41</td>\n",
              "      <td>18.070800</td>\n",
              "      <td>-63.050100</td>\n",
              "      <td>37</td>\n",
              "      <td>2</td>\n",
              "      <td>19</td>\n",
              "      <td>16</td>\n",
              "      <td>St Martin, France</td>\n",
              "    </tr>\n",
              "    <tr>\n",
              "      <th>2951</th>\n",
              "      <td>NaN</td>\n",
              "      <td>NaN</td>\n",
              "      <td>NaN</td>\n",
              "      <td>France</td>\n",
              "      <td>2020-04-19 23:40:41</td>\n",
              "      <td>46.227600</td>\n",
              "      <td>2.213700</td>\n",
              "      <td>151838</td>\n",
              "      <td>19692</td>\n",
              "      <td>36578</td>\n",
              "      <td>96598</td>\n",
              "      <td>France</td>\n",
              "    </tr>\n",
              "  </tbody>\n",
              "</table>\n",
              "</div>"
            ],
            "text/plain": [
              "      FIPS Admin2  ... Active                       Combined_Key\n",
              "2820   NaN    NaN  ...     32              French Guiana, France\n",
              "2821   NaN    NaN  ...     53           French Polynesia, France\n",
              "2828   NaN    NaN  ...     67                 Guadeloupe, France\n",
              "2848   NaN    NaN  ...     78                 Martinique, France\n",
              "2849   NaN    NaN  ...    150                    Mayotte, France\n",
              "2852   NaN    NaN  ...      3              New Caledonia, France\n",
              "2869   NaN    NaN  ...    171                    Reunion, France\n",
              "2870   NaN    NaN  ...      1           Saint Barthelemy, France\n",
              "2872   NaN    NaN  ...      1  Saint Pierre and Miquelon, France\n",
              "2881   NaN    NaN  ...     16                  St Martin, France\n",
              "2951   NaN    NaN  ...  96598                             France\n",
              "\n",
              "[11 rows x 12 columns]"
            ]
          },
          "metadata": {
            "tags": []
          },
          "execution_count": 91
        }
      ]
    },
    {
      "cell_type": "code",
      "metadata": {
        "id": "88Zn-qwXhtzP"
      },
      "source": [
        "# df.copy() copier votre df pour le dupliquer\n",
        "df_covid2 = df_covid # df_covid2 va aussi modifier df_covid !!\n",
        "df_covid2 = df_covid.copy() #df_covid2 ne modifiera plus df_covid"
      ],
      "execution_count": 93,
      "outputs": []
    }
  ]
}