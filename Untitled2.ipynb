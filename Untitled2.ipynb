{
  "nbformat": 4,
  "nbformat_minor": 0,
  "metadata": {
    "colab": {
      "name": "Untitled2.ipynb",
      "provenance": [],
      "authorship_tag": "ABX9TyMFL0FZXrT6gy5qh6CfUGCi",
      "include_colab_link": true
    },
    "kernelspec": {
      "name": "python3",
      "display_name": "Python 3"
    },
    "language_info": {
      "name": "python"
    }
  },
  "cells": [
    {
      "cell_type": "markdown",
      "metadata": {
        "id": "view-in-github",
        "colab_type": "text"
      },
      "source": [
        "<a href=\"https://colab.research.google.com/github/reytax81/apprentissage_python/blob/main/Untitled2.ipynb\" target=\"_parent\"><img src=\"https://colab.research.google.com/assets/colab-badge.svg\" alt=\"Open In Colab\"/></a>"
      ]
    },
    {
      "cell_type": "markdown",
      "metadata": {
        "id": "j9YeTqgToC6B"
      },
      "source": [
        "# REGEX\n",
        "##regex <-- experssion reguliere "
      ]
    },
    {
      "cell_type": "code",
      "metadata": {
        "id": "gsccyGC8l-WG"
      },
      "source": [
        "import re"
      ],
      "execution_count": null,
      "outputs": []
    },
    {
      "cell_type": "code",
      "metadata": {
        "id": "64_zEpsZpQwr"
      },
      "source": [
        "# re.search(texte_a_chercher,texte) cherche toute la chaine de caractere, return avec .start() et .end() les index des recherches\n",
        "# re.match(texte_a_chercher,texte) cherche au debut de la chine de caractere\n",
        "# return un matchObjet ou none"
      ],
      "execution_count": null,
      "outputs": []
    },
    {
      "cell_type": "code",
      "metadata": {
        "colab": {
          "base_uri": "https://localhost:8080/"
        },
        "id": "3h9Z9ujRrlPq",
        "outputId": "c7efd910-dd08-417e-aa2a-a641c4c7670d"
      },
      "source": [
        "# re.compile(text, args) #permet de compiler une expression reguliere\n",
        "\n",
        "m = re.compile('ter$', re.MULTILINE)\n",
        "\n",
        "print(m.match(test_text)) # no match\n",
        "print(m.search(test_text, re.MULTILINE)) #also match"
      ],
      "execution_count": 2,
      "outputs": [
        {
          "output_type": "stream",
          "text": [
            "None\n",
            "<re.Match object; span=(13, 16), match='ter'>\n"
          ],
          "name": "stdout"
        }
      ]
    },
    {
      "cell_type": "markdown",
      "metadata": {
        "id": "TmY9SDsxtNhe"
      },
      "source": [
        "## pour s'aider on peut utiliser https://regex101.com"
      ]
    },
    {
      "cell_type": "code",
      "metadata": {
        "colab": {
          "base_uri": "https://localhost:8080/"
        },
        "id": "mrBfFyS1pzGa",
        "outputId": "82559082-c1ca-48cc-91aa-09b888f8b108"
      },
      "source": [
        "# example code :\n",
        "test_text = \"\"\"Test pour\n",
        "Tester un testeur sachant tester\"\"\"\n",
        "\n",
        "\n",
        "import re\n",
        "\n",
        "print(re.match('Test', test_text)) # OK\n",
        "print(re.match('Tester', test_text)) #none\n",
        "print(re.match('^Tester', test_text)) #none\n",
        "print(re.search('Tester', test_text)) #OK\n",
        "print(re.search('^Tester', test_text, re.MULTILINE)) #OK"
      ],
      "execution_count": 3,
      "outputs": [
        {
          "output_type": "stream",
          "text": [
            "<re.Match object; span=(0, 4), match='Test'>\n",
            "None\n",
            "None\n",
            "<re.Match object; span=(10, 16), match='Tester'>\n",
            "<re.Match object; span=(10, 16), match='Tester'>\n"
          ],
          "name": "stdout"
        }
      ]
    },
    {
      "cell_type": "code",
      "metadata": {
        "colab": {
          "base_uri": "https://localhost:8080/",
          "height": 52
        },
        "id": "8pd1O4sbtgdZ",
        "outputId": "1d98ab9d-158a-4b59-bd05-3b59bef64702"
      },
      "source": [
        "\"une planète est un corps céleste orbitant autour du soleil ou d'une autre étoile, possédant une masse suffisante pour que sa gravité la maintienne en équilibre hydrostatique, c'est à dire sous une forme presque sphérique, et ayant éliminé tout corps <<rival>> se déplacant sur son orbite ou sur une orbite proche. Par extension on qualifie parfois aussi de planètes les objets libres de masse planètaire.\""
      ],
      "execution_count": 4,
      "outputs": [
        {
          "output_type": "execute_result",
          "data": {
            "application/vnd.google.colaboratory.intrinsic+json": {
              "type": "string"
            },
            "text/plain": [
              "\"une planète est un corps céleste orbitant autour du soleil ou d'une autre étoile, possédant une masse suffisante pour que sa gravité la maintienne en équilibre hydrostatique, c'est à dire sous une forme presque sphérique, et ayant éliminé tout corps <<rival>> se déplacant sur son orbite ou sur une orbite proche. Par extension on qualifie parfois aussi de planètes les objets libres de masse planètaire.\""
            ]
          },
          "metadata": {
            "tags": []
          },
          "execution_count": 4
        }
      ]
    },
    {
      "cell_type": "code",
      "metadata": {
        "colab": {
          "base_uri": "https://localhost:8080/"
        },
        "id": "0KRGl6ZIuxod",
        "outputId": "9c3d1663-35b9-4f87-b300-424f64802e86"
      },
      "source": [
        "text = \"Une planète est un corps céleste orbitant autour du soleil ou d'une autre étoile, possédant une masse suffisante pour que sa gravité la maintienne en équilibre hydrostatique, c'est à dire sous une forme presque sphérique, et ayant éliminé tout corps <<rival>> se déplacant sur son orbite ou sur une orbite proche. Par extension on qualifie parfois aussi de planètes les objets libres de masse planètaire.\"\n",
        "\n",
        "text_regex = re.compile('Une*')\n",
        "print(text_regex.search(text))"
      ],
      "execution_count": 5,
      "outputs": [
        {
          "output_type": "stream",
          "text": [
            "<re.Match object; span=(0, 3), match='Une'>\n"
          ],
          "name": "stdout"
        }
      ]
    },
    {
      "cell_type": "code",
      "metadata": {
        "colab": {
          "base_uri": "https://localhost:8080/"
        },
        "id": "uK2D9C-tvM-x",
        "outputId": "b1829ed8-b2f5-4562-e1c1-92767a4c8eba"
      },
      "source": [
        "# re.findall(regex,texte) return match in list\n",
        "# ou re.search().group()\n",
        "\n",
        "orbite_find = re.findall('orbite', text)\n",
        "\n",
        "print(orbite_find)\n",
        "print(len(orbite_find))"
      ],
      "execution_count": 7,
      "outputs": [
        {
          "output_type": "stream",
          "text": [
            "['orbite', 'orbite']\n",
            "2\n"
          ],
          "name": "stdout"
        }
      ]
    },
    {
      "cell_type": "code",
      "metadata": {
        "colab": {
          "base_uri": "https://localhost:8080/"
        },
        "id": "2Wq3X4S5wMNA",
        "outputId": "40b5ceff-99a4-4de4-eeb2-ffac149a48e6"
      },
      "source": [
        "# re.split ('regex', text)\n",
        "\n",
        "re.split('[A,Z]', text)"
      ],
      "execution_count": 8,
      "outputs": [
        {
          "output_type": "execute_result",
          "data": {
            "text/plain": [
              "[\"Une planète est un corps céleste orbitant autour du soleil ou d'une autre étoile\",\n",
              " ' possédant une masse suffisante pour que sa gravité la maintienne en équilibre hydrostatique',\n",
              " \" c'est à dire sous une forme presque sphérique\",\n",
              " ' et ayant éliminé tout corps <<rival>> se déplacant sur son orbite ou sur une orbite proche. Par extension on qualifie parfois aussi de planètes les objets libres de masse planètaire.']"
            ]
          },
          "metadata": {
            "tags": []
          },
          "execution_count": 8
        }
      ]
    },
    {
      "cell_type": "markdown",
      "metadata": {
        "id": "fhE0Lh51wrEG"
      },
      "source": [
        "## EXCEPTIONS"
      ]
    },
    {
      "cell_type": "code",
      "metadata": {
        "colab": {
          "base_uri": "https://localhost:8080/"
        },
        "id": "gDz_v7C5wrrQ",
        "outputId": "c733fbcc-e557-4afa-8911-6d994a5b2727"
      },
      "source": [
        "# Exemple division par 0 ZeroDivisionError, NameError, ValueError, ou TypeError\n",
        "# try except finally\n",
        "# ne pas abuser du try / except mais penser au if sauf si c'est le dernier recours\n",
        "\n",
        "b = 1\n",
        "c =  \"yann\"\n",
        "try:\n",
        "  a = b/c\n",
        "except ZeroDivisionError:\n",
        "  a = b*c\n",
        "except TypeError:\n",
        "  a = b\n",
        "finally:\n",
        " print(a)"
      ],
      "execution_count": 11,
      "outputs": [
        {
          "output_type": "stream",
          "text": [
            "1\n"
          ],
          "name": "stdout"
        }
      ]
    },
    {
      "cell_type": "code",
      "metadata": {
        "colab": {
          "base_uri": "https://localhost:8080/",
          "height": 248
        },
        "id": "FNkaJ-nnxbNZ",
        "outputId": "7843530f-2de3-4d40-c4ec-41947d6e93e6"
      },
      "source": [
        "# if ..... raise error\n",
        "\n",
        "b = 5\n",
        "c = 3\n",
        "\n",
        "if c<5 :\n",
        "  print(\"c est inferieur a 5 et donc erreur\")\n",
        "  raise ValueError\n",
        "else:\n",
        "  a = b*c\n",
        "\n",
        "print(a)"
      ],
      "execution_count": 16,
      "outputs": [
        {
          "output_type": "stream",
          "text": [
            "c est inferieur a 5 et donc erreur\n"
          ],
          "name": "stdout"
        },
        {
          "output_type": "error",
          "ename": "ValueError",
          "evalue": "ignored",
          "traceback": [
            "\u001b[0;31m---------------------------------------------------------------------------\u001b[0m",
            "\u001b[0;31mValueError\u001b[0m                                Traceback (most recent call last)",
            "\u001b[0;32m<ipython-input-16-9e49d9f21db2>\u001b[0m in \u001b[0;36m<module>\u001b[0;34m()\u001b[0m\n\u001b[1;32m      6\u001b[0m \u001b[0;32mif\u001b[0m \u001b[0mc\u001b[0m\u001b[0;34m<\u001b[0m\u001b[0;36m5\u001b[0m \u001b[0;34m:\u001b[0m\u001b[0;34m\u001b[0m\u001b[0;34m\u001b[0m\u001b[0m\n\u001b[1;32m      7\u001b[0m   \u001b[0mprint\u001b[0m\u001b[0;34m(\u001b[0m\u001b[0;34m\"c est inferieur a 5 et donc erreur\"\u001b[0m\u001b[0;34m)\u001b[0m\u001b[0;34m\u001b[0m\u001b[0;34m\u001b[0m\u001b[0m\n\u001b[0;32m----> 8\u001b[0;31m   \u001b[0;32mraise\u001b[0m \u001b[0mValueError\u001b[0m\u001b[0;34m\u001b[0m\u001b[0;34m\u001b[0m\u001b[0m\n\u001b[0m\u001b[1;32m      9\u001b[0m \u001b[0;32melse\u001b[0m\u001b[0;34m:\u001b[0m\u001b[0;34m\u001b[0m\u001b[0;34m\u001b[0m\u001b[0m\n\u001b[1;32m     10\u001b[0m   \u001b[0ma\u001b[0m \u001b[0;34m=\u001b[0m \u001b[0mb\u001b[0m\u001b[0;34m*\u001b[0m\u001b[0mc\u001b[0m\u001b[0;34m\u001b[0m\u001b[0;34m\u001b[0m\u001b[0m\n",
            "\u001b[0;31mValueError\u001b[0m: "
          ]
        }
      ]
    },
    {
      "cell_type": "code",
      "metadata": {
        "colab": {
          "base_uri": "https://localhost:8080/"
        },
        "id": "yQxExFQ72POt",
        "outputId": "067d8915-893c-47b9-ec48-39d2aaaf95d1"
      },
      "source": [
        "!pip install Smarties"
      ],
      "execution_count": 18,
      "outputs": [
        {
          "output_type": "stream",
          "text": [
            "Collecting Smarties\n",
            "  Downloading https://files.pythonhosted.org/packages/38/0a/13a5bf604fffadcce0d24072d4c43f9a3516fc4f27426a95e01ddce6ead8/Smarties-0.11.tar.gz\n",
            "Requirement already satisfied: nltk in /usr/local/lib/python3.7/dist-packages (from Smarties) (3.2.5)\n",
            "Requirement already satisfied: gensim in /usr/local/lib/python3.7/dist-packages (from Smarties) (3.6.0)\n",
            "Collecting wikipedia\n",
            "  Using cached https://files.pythonhosted.org/packages/67/35/25e68fbc99e672127cc6fbb14b8ec1ba3dfef035bf1e4c90f78f24a80b7d/wikipedia-1.4.0.tar.gz\n",
            "Requirement already satisfied: scikit-learn in /usr/local/lib/python3.7/dist-packages (from Smarties) (0.22.2.post1)\n",
            "Requirement already satisfied: pandas in /usr/local/lib/python3.7/dist-packages (from Smarties) (1.1.5)\n",
            "Requirement already satisfied: numpy in /usr/local/lib/python3.7/dist-packages (from Smarties) (1.19.5)\n",
            "Requirement already satisfied: six in /usr/local/lib/python3.7/dist-packages (from nltk->Smarties) (1.15.0)\n",
            "Requirement already satisfied: scipy>=0.18.1 in /usr/local/lib/python3.7/dist-packages (from gensim->Smarties) (1.4.1)\n",
            "Requirement already satisfied: smart-open>=1.2.1 in /usr/local/lib/python3.7/dist-packages (from gensim->Smarties) (5.0.0)\n",
            "Requirement already satisfied: beautifulsoup4 in /usr/local/lib/python3.7/dist-packages (from wikipedia->Smarties) (4.6.3)\n",
            "Requirement already satisfied: requests<3.0.0,>=2.0.0 in /usr/local/lib/python3.7/dist-packages (from wikipedia->Smarties) (2.23.0)\n",
            "Requirement already satisfied: joblib>=0.11 in /usr/local/lib/python3.7/dist-packages (from scikit-learn->Smarties) (1.0.1)\n",
            "Requirement already satisfied: python-dateutil>=2.7.3 in /usr/local/lib/python3.7/dist-packages (from pandas->Smarties) (2.8.1)\n",
            "Requirement already satisfied: pytz>=2017.2 in /usr/local/lib/python3.7/dist-packages (from pandas->Smarties) (2018.9)\n",
            "Requirement already satisfied: chardet<4,>=3.0.2 in /usr/local/lib/python3.7/dist-packages (from requests<3.0.0,>=2.0.0->wikipedia->Smarties) (3.0.4)\n",
            "Requirement already satisfied: urllib3!=1.25.0,!=1.25.1,<1.26,>=1.21.1 in /usr/local/lib/python3.7/dist-packages (from requests<3.0.0,>=2.0.0->wikipedia->Smarties) (1.24.3)\n",
            "Requirement already satisfied: certifi>=2017.4.17 in /usr/local/lib/python3.7/dist-packages (from requests<3.0.0,>=2.0.0->wikipedia->Smarties) (2020.12.5)\n",
            "Requirement already satisfied: idna<3,>=2.5 in /usr/local/lib/python3.7/dist-packages (from requests<3.0.0,>=2.0.0->wikipedia->Smarties) (2.10)\n",
            "Building wheels for collected packages: Smarties, wikipedia\n",
            "  Building wheel for Smarties (setup.py) ... \u001b[?25l\u001b[?25hdone\n",
            "  Created wheel for Smarties: filename=Smarties-0.11-cp37-none-any.whl size=13530 sha256=a4f1d6c858448500000f1cf9c76d0dd419891f895d97fda62f9bdf4152912f36\n",
            "  Stored in directory: /root/.cache/pip/wheels/f5/c8/4b/5479ccccd7eaa9a692f5c6592e2930ba122400f0090080d22b\n",
            "  Building wheel for wikipedia (setup.py) ... \u001b[?25l\u001b[?25hdone\n",
            "  Created wheel for wikipedia: filename=wikipedia-1.4.0-cp37-none-any.whl size=11686 sha256=81aa83e3ef353e0e4806b6e0f78101ea55af8dd0c974210f36cabc17e8d352b5\n",
            "  Stored in directory: /root/.cache/pip/wheels/87/2a/18/4e471fd96d12114d16fe4a446d00c3b38fb9efcb744bd31f4a\n",
            "Successfully built Smarties wikipedia\n",
            "Installing collected packages: wikipedia, Smarties\n",
            "Successfully installed Smarties-0.11 wikipedia-1.4.0\n"
          ],
          "name": "stdout"
        }
      ]
    },
    {
      "cell_type": "markdown",
      "metadata": {
        "id": "3NexZaZhxcI8"
      },
      "source": [
        "##**MODULES**"
      ]
    },
    {
      "cell_type": "markdown",
      "metadata": {
        "id": "Ye_DSCZj1TP_"
      },
      "source": [
        "##Astuce et questions"
      ]
    },
    {
      "cell_type": "code",
      "metadata": {
        "id": "F_omkGee0PKh"
      },
      "source": [
        "import numpy"
      ],
      "execution_count": 17,
      "outputs": []
    },
    {
      "cell_type": "markdown",
      "metadata": {
        "id": "MWKrtN5K3HpM"
      },
      "source": [
        "##LES **DECORATEURS**"
      ]
    },
    {
      "cell_type": "code",
      "metadata": {
        "colab": {
          "base_uri": "https://localhost:8080/"
        },
        "id": "Yi8miP2w2ZP1",
        "outputId": "33df47d8-a5e4-4a49-dd75-e29226a748b3"
      },
      "source": [
        "# Décorateur \n",
        "\n",
        "def f1(f):\n",
        "  def test():\n",
        "    print('OK')\n",
        "    f()\n",
        "  return test\n",
        "\n",
        "@f1 #decorateur @f1\n",
        "def f():\n",
        "  print('Je suis là')\n",
        "\n",
        "#f = f1(f)\n",
        "f()"
      ],
      "execution_count": 20,
      "outputs": [
        {
          "output_type": "stream",
          "text": [
            "OK\n",
            "Je suis là\n"
          ],
          "name": "stdout"
        }
      ]
    },
    {
      "cell_type": "code",
      "metadata": {
        "colab": {
          "base_uri": "https://localhost:8080/"
        },
        "id": "n08nXtYJ3GbO",
        "outputId": "eb6d818a-1f1b-4d50-bee9-066a426753e8"
      },
      "source": [
        "%time\n",
        "# list comprehension\n",
        "\n",
        "a = []\n",
        "for i in range(10):\n",
        "  a.append(10)"
      ],
      "execution_count": 31,
      "outputs": [
        {
          "output_type": "stream",
          "text": [
            "CPU times: user 3 µs, sys: 1 µs, total: 4 µs\n",
            "Wall time: 7.87 µs\n"
          ],
          "name": "stdout"
        }
      ]
    },
    {
      "cell_type": "code",
      "metadata": {
        "colab": {
          "base_uri": "https://localhost:8080/"
        },
        "id": "Tt-HKRxo7iVw",
        "outputId": "af77e3bd-9c42-4eec-fea5-154f52e3c925"
      },
      "source": [
        "%time\n",
        "\n",
        "# list comprehension plus rapide !!\n",
        "a = [i for i in range(10)]"
      ],
      "execution_count": 33,
      "outputs": [
        {
          "output_type": "stream",
          "text": [
            "CPU times: user 3 µs, sys: 0 ns, total: 3 µs\n",
            "Wall time: 6.91 µs\n"
          ],
          "name": "stdout"
        }
      ]
    },
    {
      "cell_type": "code",
      "metadata": {
        "colab": {
          "base_uri": "https://localhost:8080/"
        },
        "id": "rO2KD8CA49HN",
        "outputId": "47a397f2-aa1f-4ee4-c860-d6ac5af27c48"
      },
      "source": [
        "# SANS *ARGS\n",
        "\n",
        "def add(n1,n2,n3,n4):\n",
        "  addition = 0\n",
        "  addition = n1+n2+n3+n4\n",
        "  return addition\n",
        "\n",
        "add(1,2,3,5)"
      ],
      "execution_count": 25,
      "outputs": [
        {
          "output_type": "execute_result",
          "data": {
            "text/plain": [
              "11"
            ]
          },
          "metadata": {
            "tags": []
          },
          "execution_count": 25
        }
      ]
    },
    {
      "cell_type": "code",
      "metadata": {
        "colab": {
          "base_uri": "https://localhost:8080/"
        },
        "id": "-z-vRvzG3_ju",
        "outputId": "ee4714e1-93f4-4407-f949-abbd3cb5943f"
      },
      "source": [
        "# AVEC *ARGS\n",
        "# *args permet de donner un nombre d'argument variable\n",
        "# permet plus de flexibilité \n",
        "\n",
        "def add(*args):\n",
        "  addition = 0\n",
        "  for arg in args:\n",
        "    addition = addition + arg\n",
        "  return addition\n",
        "\n",
        "add(1, 2, 3, 5)"
      ],
      "execution_count": 23,
      "outputs": [
        {
          "output_type": "execute_result",
          "data": {
            "text/plain": [
              "11"
            ]
          },
          "metadata": {
            "tags": []
          },
          "execution_count": 23
        }
      ]
    },
    {
      "cell_type": "code",
      "metadata": {
        "colab": {
          "base_uri": "https://localhost:8080/"
        },
        "id": "lLzbDC355ZNX",
        "outputId": "4f7730c8-7403-40eb-df53-8deecef00f8d"
      },
      "source": [
        "# **kwargs permet de passer des arguments d'un dictionnaire, ou des mots clé\n",
        "\n",
        "def add(**kwargs):\n",
        "  addition = 0\n",
        "  for key, value in kwargs.items():\n",
        "    if key == 'arg1':\n",
        "      continue\n",
        "    addition = addition + value\n",
        "  return addition\n",
        "\n",
        "dict_args = {'args1':1,\n",
        "             'args2':2,\n",
        "             'args3':3,\n",
        "             'args4':4             \n",
        "             }\n",
        "\n",
        "add(**dict_args)\n",
        "\n"
      ],
      "execution_count": 29,
      "outputs": [
        {
          "output_type": "execute_result",
          "data": {
            "text/plain": [
              "10"
            ]
          },
          "metadata": {
            "tags": []
          },
          "execution_count": 29
        }
      ]
    },
    {
      "cell_type": "code",
      "metadata": {
        "colab": {
          "base_uri": "https://localhost:8080/"
        },
        "id": "ENH53-kt72Je",
        "outputId": "787eea6c-2910-4689-aaf3-3f22f7983eeb"
      },
      "source": [
        "%time\n",
        "# Lambda *args : function\n",
        "\n",
        "def add(arg1,arg2,arg3):\n",
        "  return arg1+arg2+arg3\n",
        "\n",
        "add(1,2,3)"
      ],
      "execution_count": 35,
      "outputs": [
        {
          "output_type": "stream",
          "text": [
            "CPU times: user 3 µs, sys: 0 ns, total: 3 µs\n",
            "Wall time: 6.2 µs\n"
          ],
          "name": "stdout"
        },
        {
          "output_type": "execute_result",
          "data": {
            "text/plain": [
              "6"
            ]
          },
          "metadata": {
            "tags": []
          },
          "execution_count": 35
        }
      ]
    },
    {
      "cell_type": "code",
      "metadata": {
        "colab": {
          "base_uri": "https://localhost:8080/"
        },
        "id": "mcxsc82w8JA5",
        "outputId": "c6abb2b0-8f53-47fd-af6e-018d0e43ce96"
      },
      "source": [
        "%time\n",
        "# lambda == travailler sur une ligne \n",
        "add = lambda arg1,arg2,arg3 : arg1+arg2+arg3\n",
        "print(add(1,2,3))"
      ],
      "execution_count": 38,
      "outputs": [
        {
          "output_type": "stream",
          "text": [
            "CPU times: user 3 µs, sys: 0 ns, total: 3 µs\n",
            "Wall time: 5.25 µs\n",
            "6\n"
          ],
          "name": "stdout"
        }
      ]
    }
  ]
}