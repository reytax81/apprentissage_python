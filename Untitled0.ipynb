{
  "nbformat": 4,
  "nbformat_minor": 0,
  "metadata": {
    "colab": {
      "name": "Untitled0.ipynb",
      "provenance": [],
      "authorship_tag": "ABX9TyMP+dSD9m/DWW4ZyNK+ijDp",
      "include_colab_link": true
    },
    "kernelspec": {
      "name": "python3",
      "display_name": "Python 3"
    },
    "language_info": {
      "name": "python"
    }
  },
  "cells": [
    {
      "cell_type": "markdown",
      "metadata": {
        "id": "view-in-github",
        "colab_type": "text"
      },
      "source": [
        "<a href=\"https://colab.research.google.com/github/reytax81/apprentissage_python/blob/main/Untitled0.ipynb\" target=\"_parent\"><img src=\"https://colab.research.google.com/assets/colab-badge.svg\" alt=\"Open In Colab\"/></a>"
      ]
    },
    {
      "cell_type": "code",
      "metadata": {
        "colab": {
          "base_uri": "https://localhost:8080/"
        },
        "id": "VctKsypxEfWs",
        "outputId": "576c2a49-653c-44d7-fd24-b324688fee18"
      },
      "source": [
        "print(\"hello world\")"
      ],
      "execution_count": 1,
      "outputs": [
        {
          "output_type": "stream",
          "text": [
            "hello world\n"
          ],
          "name": "stdout"
        }
      ]
    },
    {
      "cell_type": "code",
      "metadata": {
        "colab": {
          "base_uri": "https://localhost:8080/"
        },
        "id": "Fv_oo7g-FLfX",
        "outputId": "4e49dca6-598f-4fc4-da3d-f6e24a218a71"
      },
      "source": [
        "a = 10\n",
        "print(a)\n",
        "print(type(a))\n",
        "\n",
        "b = 10.5\n",
        "print(b)\n",
        "print(type(b))"
      ],
      "execution_count": 4,
      "outputs": [
        {
          "output_type": "stream",
          "text": [
            "10\n",
            "<class 'int'>\n",
            "10.5\n",
            "<class 'float'>\n"
          ],
          "name": "stdout"
        }
      ]
    },
    {
      "cell_type": "code",
      "metadata": {
        "colab": {
          "base_uri": "https://localhost:8080/"
        },
        "id": "Ged6VGUwd98y",
        "outputId": "0cc1106a-566e-43dd-c516-315b63608e9b"
      },
      "source": [
        "a = 10\n",
        "print(f\"la variable A = {a}\")"
      ],
      "execution_count": 5,
      "outputs": [
        {
          "output_type": "stream",
          "text": [
            "la variable A = 10\n"
          ],
          "name": "stdout"
        }
      ]
    },
    {
      "cell_type": "code",
      "metadata": {
        "colab": {
          "base_uri": "https://localhost:8080/"
        },
        "id": "ndF_0iishI8A",
        "outputId": "672152e8-2232-4fc5-b448-1cb2b9f5386b"
      },
      "source": [
        "#tuple (1,0) utile pour le deep learning = tenseur\n",
        "var4 = (1,0)\n",
        "print(var4)\n",
        "print(type(var4))\n",
        "\n",
        "#list [] (array)\n",
        "var5 = [\"om\",\"ol\",\"psg\"]\n",
        "print(var5)\n",
        "print(type(var5))\n",
        "\n",
        "#dict {\"P\":\"pomme\"}\n",
        "var6 = {\"P\": [\"pomme\",\"profil\",\"prune\"],\n",
        "        \"A\":[\"anis\",\"ane\",\"anneau\"]}\n",
        "print(var6)\n",
        "print(type(var6))"
      ],
      "execution_count": 10,
      "outputs": [
        {
          "output_type": "stream",
          "text": [
            "(1, 0)\n",
            "<class 'tuple'>\n",
            "['om', 'ol', 'psg']\n",
            "<class 'list'>\n",
            "{'P': ['pomme', 'profil', 'prune'], 'A': ['anis', 'ane', 'anneau']}\n",
            "<class 'dict'>\n"
          ],
          "name": "stdout"
        }
      ]
    },
    {
      "cell_type": "code",
      "metadata": {
        "colab": {
          "base_uri": "https://localhost:8080/"
        },
        "id": "FNw2viPejcPd",
        "outputId": "41456874-930a-47ad-8088-f8c6eabf0221"
      },
      "source": [
        "#if elif else permet de mettre des condition \"if <condition> :\"\n",
        "\n",
        "var7 = \"psg\"\n",
        "if var7 == \"psg\" :\n",
        "  print(\"c'est le psg\")\n",
        "elif var7 == \"om\":\n",
        "  print(\"c'est l'om\")\n",
        "else:\n",
        "  print(\"ce n'est ni l'om ni le psg\")"
      ],
      "execution_count": 16,
      "outputs": [
        {
          "output_type": "stream",
          "text": [
            "c'est le psg\n"
          ],
          "name": "stdout"
        }
      ]
    },
    {
      "cell_type": "code",
      "metadata": {
        "colab": {
          "base_uri": "https://localhost:8080/"
        },
        "id": "8udNJjGLlJZj",
        "outputId": "8913d58b-864f-4641-a9cb-984fa10da4ff"
      },
      "source": [
        "#les boucles : for <variable> in <list>:\n",
        "#never repeat yourself !!!\n",
        "\n",
        "for i in [0,1,2,3]:\n",
        "  print(i)\n",
        "  print(var5)\n",
        "\n",
        "for i in range(11):\n",
        "  print(i)\n",
        "del (i)"
      ],
      "execution_count": 27,
      "outputs": [
        {
          "output_type": "stream",
          "text": [
            "0\n",
            "['om', 'ol', 'psg']\n",
            "1\n",
            "['om', 'ol', 'psg']\n",
            "2\n",
            "['om', 'ol', 'psg']\n",
            "3\n",
            "['om', 'ol', 'psg']\n",
            "0\n",
            "1\n",
            "2\n",
            "3\n",
            "4\n",
            "5\n",
            "6\n",
            "7\n",
            "8\n",
            "9\n",
            "10\n"
          ],
          "name": "stdout"
        }
      ]
    },
    {
      "cell_type": "code",
      "metadata": {
        "colab": {
          "base_uri": "https://localhost:8080/"
        },
        "id": "BMisQQSCm47R",
        "outputId": "112df1ff-cc81-4554-888e-7a115828cda1"
      },
      "source": [
        "#while \"tant que\" while <condition> pas resolu , on boucle\n",
        "i=0\n",
        "while(i!=10):\n",
        "  print(i)\n",
        "  i=i+1"
      ],
      "execution_count": 29,
      "outputs": [
        {
          "output_type": "stream",
          "text": [
            "0\n",
            "1\n",
            "2\n",
            "3\n",
            "4\n",
            "5\n",
            "6\n",
            "7\n",
            "8\n",
            "9\n"
          ],
          "name": "stdout"
        }
      ]
    },
    {
      "cell_type": "code",
      "metadata": {
        "colab": {
          "base_uri": "https://localhost:8080/"
        },
        "id": "GmHc82RKoBxk",
        "outputId": "e7c43c19-0f5c-4cb0-9057-9fb3493d7c30"
      },
      "source": [
        "# les fonctions \"def\" nom_function(argument) argument = les variables qui vont etre dans la fonction\n",
        "\n",
        "def mean(number1, number2):\n",
        "  mean_of_two_numbers = (number1 + number2) / 4\n",
        "  return mean_of_two_numbers\n",
        "#print()\n",
        "#nom de la fonction()\n",
        "mean(1000,300)\n"
      ],
      "execution_count": 36,
      "outputs": [
        {
          "output_type": "execute_result",
          "data": {
            "text/plain": [
              "325.0"
            ]
          },
          "metadata": {
            "tags": []
          },
          "execution_count": 36
        }
      ]
    },
    {
      "cell_type": "code",
      "metadata": {
        "colab": {
          "base_uri": "https://localhost:8080/"
        },
        "id": "gfZRb87wqLL1",
        "outputId": "4d0b4bbe-68d3-46f4-fa04-db90812a2f62"
      },
      "source": [
        "def exemple_porte_variable():\n",
        "\n",
        "  def define_local():\n",
        "    exemple = \"local exemple\"\n",
        "\n",
        "  def define_nonlocal():\n",
        "    nonlocal exemple\n",
        "    exemple= 'non local exemple'\n",
        "\n",
        "  def define_global():\n",
        "    global exemple\n",
        "    exemple = \"global exemple\"\n",
        "\n",
        "  exemple = \"exemple\"\n",
        "  define_local()\n",
        "  print(\"local exemple=\" ,exemple)\n",
        "  define_nonlocal()\n",
        "  print(\"non local exemple=\" ,exemple)\n",
        "  define_global()\n",
        "  print(\"local exemple=\" ,exemple)\n",
        "\n",
        "exemple_porte_variable()\n",
        "print(\"main exemple=\", exemple)\n",
        "#function1(exemple1) #ERROR\n"
      ],
      "execution_count": 60,
      "outputs": [
        {
          "output_type": "stream",
          "text": [
            "local exemple= exemple\n",
            "non local exemple= non local exemple\n",
            "local exemple= non local exemple\n",
            "main exemple= global exemple\n"
          ],
          "name": "stdout"
        }
      ]
    },
    {
      "cell_type": "code",
      "metadata": {
        "colab": {
          "base_uri": "https://localhost:8080/"
        },
        "id": "nxzoQIUTvXbG",
        "outputId": "c64f0fa3-ecac-4327-f32a-b636086187b9"
      },
      "source": [
        "planet_list= [\"mercure\",\"venus\", \"terre\", \"mars\", \"jupiter\",\"saturne\",\"uranus\",\"neptune\",\"pluton\"]\n",
        "\n",
        "diametre_planet= [1391, 4880, 12104, 12756, 6805, 142984, 120536, 51312, 49922, 2300]\n",
        "\n",
        "distance_soleil_planet = [\"58\",\"108\",\"150\",\"227\",\"778\",\"457\",\"870\",\"500\",\"900\"]\n",
        "\n",
        "dictionnaire_list = {\n",
        "    \"mercure\":{ \"diametre\": \"1391\", \"distance\": \"58\"},\n",
        "    \"venus\":{\"diametre\": \"4880\", \"distance\" : \"108\"},\n",
        "    \"terre\" : {\"diametre\": \"12104\", \"distance\": \"150\"}\n",
        "\n",
        "   \n",
        "}\n",
        "#cf pep 8 pour la bible python\n",
        "def find_littlest_planet(pla_list,dia_list):\n",
        "  littlest_planet = 99999999999999\n",
        "  for i,diametre_ in enumerate (dia_list) :\n",
        "    #print(i, diametre_)\n",
        "    if diametre_ < littlest_planet :\n",
        "      littlest_planet = diametre_\n",
        "      index_littlest_planet = i\n",
        "  #print(littlest_planet,pla_list [index_littlest_planet])\n",
        "  return pla_list [index_littlest_planet], littlest_planet\n",
        "name, diametre = find_littlest_planet(planet_list, diametre_planet)\n",
        "\n",
        "print(f\"la plus petite planete est {name} avec un diametre de {diametre} km\")\n"
      ],
      "execution_count": 74,
      "outputs": [
        {
          "output_type": "stream",
          "text": [
            "la plus petite planete est mercure avec un diametre de 1391 km\n"
          ],
          "name": "stdout"
        }
      ]
    },
    {
      "cell_type": "code",
      "metadata": {
        "id": "NSa68r2_EWgo"
      },
      "source": [
        "class person():\n",
        "  def __init__(self, hair_color, eye_color, height, weight):\n",
        "    self.hair_color = hair_color\n",
        "    self.eye_color = eye_color\n",
        "    self.height = height\n",
        "    self.weight = weight\n",
        "\n",
        "  def getIMC(self):\n",
        "    return self.weight / (self.height*self.height)\n",
        "\n"
      ],
      "execution_count": 82,
      "outputs": []
    },
    {
      "cell_type": "code",
      "metadata": {
        "id": "h3NJwdYOF4kH"
      },
      "source": [
        "KB9 = person(hair_color=\"noir\", eye_color=\"noir\", height=1.81, weight=81)"
      ],
      "execution_count": 90,
      "outputs": []
    },
    {
      "cell_type": "code",
      "metadata": {
        "colab": {
          "base_uri": "https://localhost:8080/"
        },
        "id": "stadh3NJGcIW",
        "outputId": "15d4106c-ef7d-4662-d397-2952c6e7e587"
      },
      "source": [
        "type(KB9)"
      ],
      "execution_count": 84,
      "outputs": [
        {
          "output_type": "execute_result",
          "data": {
            "text/plain": [
              "__main__.person"
            ]
          },
          "metadata": {
            "tags": []
          },
          "execution_count": 84
        }
      ]
    },
    {
      "cell_type": "code",
      "metadata": {
        "colab": {
          "base_uri": "https://localhost:8080/"
        },
        "id": "x0cLoiVyGsSw",
        "outputId": "f06ddb40-598f-48ac-9797-f285b6d54c5c"
      },
      "source": [
        "IMC_KB9 = KB9.getIMC()\n",
        "print(IMC_KB9)"
      ],
      "execution_count": 91,
      "outputs": [
        {
          "output_type": "stream",
          "text": [
            "24.724520008546747\n"
          ],
          "name": "stdout"
        }
      ]
    },
    {
      "cell_type": "code",
      "metadata": {
        "colab": {
          "base_uri": "https://localhost:8080/"
        },
        "id": "8h7qj6I_GNV6",
        "outputId": "66f80a27-f1fa-45dd-de30-4161198b950c"
      },
      "source": [
        "class planet():\n",
        "  def __init__(self, diametre, distance_au_soleil, name):\n",
        "    self.diametre = diametre #attribut\n",
        "    self.distance_au_soleil = distance_au_soleil\n",
        "    self.name = name\n",
        "\n",
        "  def get_description(self): \n",
        "    print(f\"il s'agit de {self.name} qui a un diametre de {self.diametre} km \\\n",
        "et une distance au soleil de {self.distance_au_soleil} millions de km\")\n",
        "\n",
        "Earth = planet(12104,150, \"Earth\")\n",
        "Mars = planet(12756,227, \"Mars\")\n",
        "\n",
        "Earth.get_description()\n",
        "\n",
        "Earth.distance_au_soleil = 228\n",
        "\n",
        "Earth.get_description()"
      ],
      "execution_count": 98,
      "outputs": [
        {
          "output_type": "stream",
          "text": [
            "il s'agit de Earth qui a un diametre de 12104 km et une distance au soleil de 150 millions de km\n",
            "il s'agit de Earth qui a un diametre de 12104 km et une distance au soleil de 228 millions de km\n"
          ],
          "name": "stdout"
        }
      ]
    },
    {
      "cell_type": "markdown",
      "metadata": {
        "id": "SQ2JjrM-LRkK"
      },
      "source": [
        "3e partie (video)"
      ]
    },
    {
      "cell_type": "code",
      "metadata": {
        "colab": {
          "base_uri": "https://localhost:8080/"
        },
        "id": "BY16SFP1LPDv",
        "outputId": "cf0465f1-d307-45c8-c118-f4e23c023bbe"
      },
      "source": [
        "class Human():\n",
        "\n",
        "  def __init__(self, genes, couleur_de_cheveux, couleur_des_yeux, taille, poids, age, name):\n",
        "    self.genes = genes\n",
        "    self.couleur_de_cheveux = couleur_de_cheveux\n",
        "    self.couleur_des_yeux = couleur_des_yeux\n",
        "    self.taille = taille\n",
        "    self.poids = poids\n",
        "    self.age = age\n",
        "    self.name = name\n",
        "\n",
        "  def get_description(self):\n",
        "    print(f\"il s'agit de {self.name} qui a {self.age} ans, il mesure {self.taille} cm \\\n",
        "il pèse {self.poids} kg, il a les cheveux {self.couleur_de_cheveux} et il a les yeux \\\n",
        "{self.couleur_des_yeux}.\")\n",
        "\n",
        "\n",
        "genes1 = {'sequence' : \"ATGCATGCATGCATGCATGCATGCATGCATGCATGCATGCATGCATGCATGCATGCATGCATGCGTGGTGGATT\",\n",
        "    'genes' :{\n",
        "            'genes1':(1,5),\n",
        "            'genes2':(3,9),\n",
        "            'genes3':(10,15),\n",
        "            'genes4':(13,19),\n",
        "            'genes5':(17,24),\n",
        "            'genes6':(25,35),\n",
        "            'genes7':(34,42),\n",
        "            'genes8':(27,57),\n",
        "            'genes9':(54,60),\n",
        "            'genes10':(60,70)\n",
        "              }\n",
        "          }\n",
        "\n",
        "genes2 = {'sequence' : \"TACCAACACGCCATGCATGCATGCATGCATGCATGCATGCAGGCCTTATGGCCATGCAAGTAGGGTCCTG\",\n",
        "    'genes' :{\n",
        "             'genes1':(1,5),\n",
        "             'genes2':(2,12),\n",
        "             'genes3':(11,41),\n",
        "             'genes4':(19,28),\n",
        "             'genes5':(26,35),\n",
        "             'genes6':(30,36),\n",
        "             'genes7':(36,41),\n",
        "             'genes8':(40,45),\n",
        "             'genes9':(52,58),\n",
        "             'genes10':(58,70) \n",
        "               }\n",
        "           }\n",
        "\n",
        "#(self, genes, couleur_de_cheveux, couleur_des_yeux, taille, poids, age, name):\n",
        "CR7 = Human(genes1, 'noir', 'marron', 187, 84, 35, 'Cristiano Ronaldo')\n",
        "CJ = Human(genes2, 'noir', 'marron', 153, 45, 9, 'Cristiano junior')\n",
        "\n",
        "CR7.get_description()\n",
        "CJ.get_description()"
      ],
      "execution_count": 119,
      "outputs": [
        {
          "output_type": "stream",
          "text": [
            "il s'agit de Cristiano Ronaldo qui a 35 ans, il mesure 187 cm il pèse 84 kg, il a les cheveux noir et il a les yeux marron.\n",
            "il s'agit de Cristiano junior qui a 9 ans, il mesure 153 cm il pèse 45 kg, il a les cheveux noir et il a les yeux marron.\n"
          ],
          "name": "stdout"
        }
      ]
    },
    {
      "cell_type": "code",
      "metadata": {
        "colab": {
          "base_uri": "https://localhost:8080/",
          "height": 35
        },
        "id": "BRxXj3emSa9g",
        "outputId": "29940705-6d49-4599-b656-3f61267b664b"
      },
      "source": [
        "CR7.couleur_de_cheveux"
      ],
      "execution_count": 109,
      "outputs": [
        {
          "output_type": "execute_result",
          "data": {
            "application/vnd.google.colaboratory.intrinsic+json": {
              "type": "string"
            },
            "text/plain": [
              "'noir'"
            ]
          },
          "metadata": {
            "tags": []
          },
          "execution_count": 109
        }
      ]
    },
    {
      "cell_type": "code",
      "metadata": {
        "colab": {
          "base_uri": "https://localhost:8080/"
        },
        "id": "yDfRVgF6LQq3",
        "outputId": "cddb4a34-d880-460b-9f61-126def2145d0"
      },
      "source": [
        "CR7.genes"
      ],
      "execution_count": 108,
      "outputs": [
        {
          "output_type": "execute_result",
          "data": {
            "text/plain": [
              "{'genes': {'genes1': (1, 5),\n",
              "  'genes10': (60, 70),\n",
              "  'genes2': (3, 9),\n",
              "  'genes3': (10, 15),\n",
              "  'genes4': (13, 19),\n",
              "  'genes5': (17, 24),\n",
              "  'genes6': (25, 35),\n",
              "  'genes7': (34, 42),\n",
              "  'genes8': (27, 57),\n",
              "  'genes9': (54, 60)},\n",
              " 'sequence': 'ATGCATGCATGCATGCATGCATGCATGCATGCATGCATGCATGCATGCATGCATGCATGCATGCGTGGTGGATT'}"
            ]
          },
          "metadata": {
            "tags": []
          },
          "execution_count": 108
        }
      ]
    },
    {
      "cell_type": "code",
      "metadata": {
        "colab": {
          "base_uri": "https://localhost:8080/"
        },
        "id": "aOVEPPEiWsR-",
        "outputId": "ac40d189-1ce3-4fa7-eaac-e34d070a9dbc"
      },
      "source": [
        "CJ.genes"
      ],
      "execution_count": 120,
      "outputs": [
        {
          "output_type": "execute_result",
          "data": {
            "text/plain": [
              "{'genes': {'genes1': (1, 5),\n",
              "  'genes10': (58, 70),\n",
              "  'genes2': (2, 12),\n",
              "  'genes3': (11, 41),\n",
              "  'genes4': (19, 28),\n",
              "  'genes5': (26, 35),\n",
              "  'genes6': (30, 36),\n",
              "  'genes7': (36, 41),\n",
              "  'genes8': (40, 45),\n",
              "  'genes9': (52, 58)},\n",
              " 'sequence': 'TACCAACACGCCATGCATGCATGCATGCATGCATGCATGCAGGCCTTATGGCCATGCAAGTAGGGTCCTG'}"
            ]
          },
          "metadata": {
            "tags": []
          },
          "execution_count": 120
        }
      ]
    },
    {
      "cell_type": "code",
      "metadata": {
        "colab": {
          "base_uri": "https://localhost:8080/"
        },
        "id": "AsPIXf1dXuNL",
        "outputId": "c63db7bf-bd22-4a41-d01c-7550bc5cd73d"
      },
      "source": [
        "!pip install dna_features_viewer"
      ],
      "execution_count": 121,
      "outputs": [
        {
          "output_type": "stream",
          "text": [
            "Collecting dna_features_viewer\n",
            "  Downloading https://files.pythonhosted.org/packages/cd/43/2c9319d75870a89187a151696fc5a925ad367a98f3413df8d73ced9e2b82/dna_features_viewer-3.0.3-py3-none-any.whl\n",
            "Collecting Biopython\n",
            "\u001b[?25l  Downloading https://files.pythonhosted.org/packages/3a/cd/0098eaff841850c01da928c7f509b72fd3e1f51d77b772e24de9e2312471/biopython-1.78-cp37-cp37m-manylinux1_x86_64.whl (2.3MB)\n",
            "\u001b[K     |████████████████████████████████| 2.3MB 8.1MB/s \n",
            "\u001b[?25hRequirement already satisfied: matplotlib>=3 in /usr/local/lib/python3.7/dist-packages (from dna_features_viewer) (3.2.2)\n",
            "Requirement already satisfied: numpy in /usr/local/lib/python3.7/dist-packages (from Biopython->dna_features_viewer) (1.19.5)\n",
            "Requirement already satisfied: cycler>=0.10 in /usr/local/lib/python3.7/dist-packages (from matplotlib>=3->dna_features_viewer) (0.10.0)\n",
            "Requirement already satisfied: kiwisolver>=1.0.1 in /usr/local/lib/python3.7/dist-packages (from matplotlib>=3->dna_features_viewer) (1.3.1)\n",
            "Requirement already satisfied: pyparsing!=2.0.4,!=2.1.2,!=2.1.6,>=2.0.1 in /usr/local/lib/python3.7/dist-packages (from matplotlib>=3->dna_features_viewer) (2.4.7)\n",
            "Requirement already satisfied: python-dateutil>=2.1 in /usr/local/lib/python3.7/dist-packages (from matplotlib>=3->dna_features_viewer) (2.8.1)\n",
            "Requirement already satisfied: six in /usr/local/lib/python3.7/dist-packages (from cycler>=0.10->matplotlib>=3->dna_features_viewer) (1.15.0)\n",
            "Installing collected packages: Biopython, dna-features-viewer\n",
            "Successfully installed Biopython-1.78 dna-features-viewer-3.0.3\n"
          ],
          "name": "stdout"
        }
      ]
    },
    {
      "cell_type": "code",
      "metadata": {
        "colab": {
          "base_uri": "https://localhost:8080/",
          "height": 395
        },
        "id": "bphgCTz4YH37",
        "outputId": "29716cea-c947-4a7c-b0ed-d0b88c2cf318"
      },
      "source": [
        "from dna_features_viewer import GraphicFeature, GraphicRecord\n",
        "\n",
        "def print_sequence_dna(genes):\n",
        "  sequence_gene = genes[\"sequence\"]\n",
        "\n",
        "  features_gene = []\n",
        "  for gene_ in genes[\"genes\"].values():\n",
        "    features_gene.append(GraphicFeature(start=gene_[0], end=gene_[1], strand=+1, color=\"#ffcccc\"))\n",
        "\n",
        "  record = GraphicRecord(sequence=sequence_gene, features=features_gene)\n",
        "\n",
        "  ax, _ = record.plot(figure_width=20)\n",
        "  record.plot_sequence(ax)\n",
        "  record.plot_translation(ax, (1, len(sequence_gene)), fontdict={\"weight\": \"bold\"})\n",
        "\n",
        "\n",
        "print_sequence_dna(CR7.genes)\n",
        "print_sequence_dna(CJ.genes)"
      ],
      "execution_count": 124,
      "outputs": [
        {
          "output_type": "stream",
          "text": [
            "/usr/local/lib/python3.7/dist-packages/Bio/Seq.py:2338: BiopythonWarning: Partial codon, len(sequence) not a multiple of three. Explicitly trim the sequence or add trailing N before translation. This may become an error in future.\n",
            "  BiopythonWarning,\n"
          ],
          "name": "stderr"
        },
        {
          "output_type": "display_data",
          "data": {
            "image/png": "[encoded data removed]",
            "text/plain": [
              "<Figure size 1440x187.2 with 1 Axes>"
            ]
          },
          "metadata": {
            "tags": []
          }
        },
        {
          "output_type": "display_data",
          "data": {
            "image/png": "[encoded data removed]",
            "text/plain": [
              "<Figure size 1440x187.2 with 1 Axes>"
            ]
          },
          "metadata": {
            "tags": []
          }
        }
      ]
    },
    {
      "cell_type": "code",
      "metadata": {
        "colab": {
          "base_uri": "https://localhost:8080/"
        },
        "id": "LJKxRGFBdwQP",
        "outputId": "4a8ff9c5-04c1-48f2-8b64-2d1235dc5ef9"
      },
      "source": [
        "CR7.genes['genes'].values()"
      ],
      "execution_count": 132,
      "outputs": [
        {
          "output_type": "execute_result",
          "data": {
            "text/plain": [
              "dict_values([(1, 5), (3, 9), (10, 15), (13, 19), (17, 24), (25, 35), (34, 42), (27, 57), (54, 60), (60, 70)])"
            ]
          },
          "metadata": {
            "tags": []
          },
          "execution_count": 132
        }
      ]
    },
    {
      "cell_type": "code",
      "metadata": {
        "colab": {
          "base_uri": "https://localhost:8080/"
        },
        "id": "XZ3Zv1DTd3VJ",
        "outputId": "85429f18-b9f3-497c-88c3-9203b5caf8d7"
      },
      "source": [
        "CJ.genes['genes'].values()"
      ],
      "execution_count": 133,
      "outputs": [
        {
          "output_type": "execute_result",
          "data": {
            "text/plain": [
              "dict_values([(1, 5), (2, 12), (11, 41), (19, 28), (26, 35), (30, 36), (36, 41), (40, 45), (52, 58), (58, 70)])"
            ]
          },
          "metadata": {
            "tags": []
          },
          "execution_count": 133
        }
      ]
    },
    {
      "cell_type": "code",
      "metadata": {
        "colab": {
          "base_uri": "https://localhost:8080/"
        },
        "id": "HW67oKyiaqh8",
        "outputId": "b2d9619e-11a5-4573-8e0f-40faf2a92fe0"
      },
      "source": [
        "list_genes_CR7 = []\n",
        "for genes_ in CR7.genes['genes'].values():\n",
        "  list_genes_CR7.append(CR7.genes['sequence'][genes_[0]:genes_[1]])\n",
        "\n",
        "list_genes_CJ = []\n",
        "for genes_ in CJ.genes['genes'].values():\n",
        "  list_genes_CJ.append(CJ.genes['sequence'][genes_[0]:genes_[1]])\n",
        "\n",
        "print(\"CJ: \",list_genes_CJ)\n",
        "print(\"CR7: \",list_genes_CR7)"
      ],
      "execution_count": 131,
      "outputs": [
        {
          "output_type": "stream",
          "text": [
            "CJ:  ['ACCA', 'CCAACACGCC', 'CATGCATGCATGCATGCATGCATGCATGCA', 'CATGCATGC', 'GCATGCATG', 'GCATGC', 'ATGCA', 'AGGCC', 'CATGCA', 'AGTAGGGTCCTG']\n",
            "CR7:  ['TGCA', 'CATGCA', 'GCATG', 'TGCATG', 'TGCATGC', 'TGCATGCATG', 'GCATGCAT', 'CATGCATGCATGCATGCATGCATGCATGCA', 'GCATGC', 'ATGCGTGGTG']\n"
          ],
          "name": "stdout"
        }
      ]
    },
    {
      "cell_type": "code",
      "metadata": {
        "colab": {
          "base_uri": "https://localhost:8080/"
        },
        "id": "194OthuEeWki",
        "outputId": "3db0ecab-562a-48ed-f4eb-7d8bbf12c1b2"
      },
      "source": [
        "%time\n",
        "#dirty way\n",
        "print(\"dirty way\")\n",
        "for genes_CR7 in list_genes_CR7:\n",
        "  for genes_CJ in list_genes_CJ:\n",
        "    if genes_CR7 == genes_CJ :\n",
        "      print(\"genes en commun!\", genes_CR7)\n",
        "\n"
      ],
      "execution_count": 135,
      "outputs": [
        {
          "output_type": "stream",
          "text": [
            "CPU times: user 3 µs, sys: 0 ns, total: 3 µs\n",
            "Wall time: 6.44 µs\n",
            "dirty way\n",
            "genes en commun! CATGCA\n",
            "genes en commun! CATGCATGCATGCATGCATGCATGCATGCA\n",
            "genes en commun! GCATGC\n"
          ],
          "name": "stdout"
        }
      ]
    },
    {
      "cell_type": "code",
      "metadata": {
        "colab": {
          "base_uri": "https://localhost:8080/"
        },
        "id": "6M1rxgp5gE0m",
        "outputId": "dc3e397b-42c3-42ca-907f-9650c9090d56"
      },
      "source": [
        "%time\n",
        "#soft way\n",
        "print(\"soft way\")\n",
        "nombre_de_genes_en_commun = 0\n",
        "for genes_CR7 in list_genes_CR7:\n",
        "  if genes_CR7 in list_genes_CJ:\n",
        "    print(\"genes en commun!\", genes_CR7)\n",
        "    nombre_de_genes_en_commun = nombre_de_genes_en_commun + 1"
      ],
      "execution_count": 137,
      "outputs": [
        {
          "output_type": "stream",
          "text": [
            "CPU times: user 2 µs, sys: 1 µs, total: 3 µs\n",
            "Wall time: 5.01 µs\n",
            "soft way\n",
            "genes en commun! CATGCA\n",
            "genes en commun! CATGCATGCATGCATGCATGCATGCATGCA\n",
            "genes en commun! GCATGC\n"
          ],
          "name": "stdout"
        }
      ]
    },
    {
      "cell_type": "code",
      "metadata": {
        "colab": {
          "base_uri": "https://localhost:8080/"
        },
        "id": "_-egacj2iJOv",
        "outputId": "682bc307-eb89-4a70-e96b-68050f1cbc04"
      },
      "source": [
        "print(f\"{CR7.name} et {CJ.name} ont {(nombre_de_genes_en_commun/10)*100}% de genes en commun\")"
      ],
      "execution_count": 138,
      "outputs": [
        {
          "output_type": "stream",
          "text": [
            "Cristiano Ronaldo et Cristiano junior ont 30.0% de genes en commun\n"
          ],
          "name": "stdout"
        }
      ]
    },
    {
      "cell_type": "markdown",
      "metadata": {
        "id": "-bI7EwmJjNR3"
      },
      "source": [
        "video 4"
      ]
    },
    {
      "cell_type": "code",
      "metadata": {
        "id": "rSg62sIAjMYw"
      },
      "source": [
        ""
      ],
      "execution_count": null,
      "outputs": []
    }
  ]
}